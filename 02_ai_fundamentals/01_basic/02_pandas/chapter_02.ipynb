{
 "cells": [
  {
   "cell_type": "markdown",
   "metadata": {},
   "source": [
    "# Pandas Series\n",
    "\n",
    "### 1. Creating a Series\n",
    "- A Pandas Series is a one-dimensional labeled array that can hold any data type (integers, floats, strings, etc.).\n"
   ]
  },
  {
   "cell_type": "code",
   "execution_count": 1,
   "metadata": {},
   "outputs": [],
   "source": [
    "import pandas as pd"
   ]
  },
  {
   "cell_type": "markdown",
   "metadata": {},
   "source": []
  },
  {
   "cell_type": "code",
   "execution_count": 2,
   "metadata": {},
   "outputs": [
    {
     "name": "stdout",
     "output_type": "stream",
     "text": [
      "0    10\n",
      "1    20\n",
      "2    30\n",
      "3    40\n",
      "4    50\n",
      "dtype: int64\n"
     ]
    }
   ],
   "source": [
    "# Creating a Series\n",
    "data = pd.Series([10, 20, 30, 40, 50])\n",
    "print(data)"
   ]
  },
  {
   "cell_type": "markdown",
   "metadata": {},
   "source": [
    "### 2. Accessing Elements in a Series\n",
    "You can access elements in a Series using labels or integer-based indexing, similar to lists in Python."
   ]
  },
  {
   "cell_type": "code",
   "execution_count": 3,
   "metadata": {},
   "outputs": [
    {
     "name": "stdout",
     "output_type": "stream",
     "text": [
      "10\n",
      "20\n"
     ]
    }
   ],
   "source": [
    "# Accessing by position\n",
    "print(data[0])\n",
    "\n",
    "# Accessing by label (if custom index is provided)\n",
    "data_custom_index = pd.Series([10, 20, 30], index=['a', 'b', 'c'])\n",
    "print(data_custom_index['b'])"
   ]
  },
  {
   "cell_type": "markdown",
   "metadata": {},
   "source": [
    "### 3. Basic Attributes of a Series (dtype, size, shape)\n",
    "Pandas Series have several attributes that provide information about the Series object, such as the data type, size, and shape."
   ]
  },
  {
   "cell_type": "code",
   "execution_count": 4,
   "metadata": {},
   "outputs": [
    {
     "name": "stdout",
     "output_type": "stream",
     "text": [
      "int64\n",
      "5\n",
      "(5,)\n"
     ]
    }
   ],
   "source": [
    "# Data type of elements in the Series\n",
    "print(data.dtype)\n",
    "\n",
    "# Number of elements in the Series\n",
    "print(data.size)\n",
    "\n",
    "# Shape of the Series (since it's one-dimensional, it'll return a tuple with a single value)\n",
    "print(data.shape)"
   ]
  },
  {
   "cell_type": "markdown",
   "metadata": {},
   "source": [
    "### 4. Vectorized Operations on Series\n",
    "One of the advantages of Pandas is its support for vectorized operations, allowing you to perform element-wise operations on Series without looping."
   ]
  },
  {
   "cell_type": "code",
   "execution_count": 5,
   "metadata": {},
   "outputs": [
    {
     "name": "stdout",
     "output_type": "stream",
     "text": [
      "0    20\n",
      "1    30\n",
      "2    40\n",
      "3    50\n",
      "4    60\n",
      "dtype: int64\n",
      "0     20\n",
      "1     40\n",
      "2     60\n",
      "3     80\n",
      "4    100\n",
      "dtype: int64\n"
     ]
    }
   ],
   "source": [
    "# Performing a vectorized operation (addition)\n",
    "result = data + 10\n",
    "print(result)\n",
    "\n",
    "# Element-wise multiplication\n",
    "result = data * 2\n",
    "print(result)"
   ]
  },
  {
   "cell_type": "markdown",
   "metadata": {},
   "source": [
    "### 5. Series with Missing Data\n",
    "Pandas automatically handles missing data with NaN (Not a Number) values, and you can use methods to detect and handle these missing values."
   ]
  },
  {
   "cell_type": "code",
   "execution_count": 6,
   "metadata": {},
   "outputs": [
    {
     "name": "stdout",
     "output_type": "stream",
     "text": [
      "0    False\n",
      "1    False\n",
      "2     True\n",
      "3    False\n",
      "4    False\n",
      "dtype: bool\n",
      "0    1.0\n",
      "1    2.0\n",
      "2    0.0\n",
      "3    4.0\n",
      "4    5.0\n",
      "dtype: float64\n"
     ]
    }
   ],
   "source": [
    "# Creating a Series with missing data\n",
    "data_with_nan = pd.Series([1, 2, None, 4, 5])\n",
    "\n",
    "# Checking for missing values\n",
    "print(data_with_nan.isna())\n",
    "\n",
    "# Filling missing values\n",
    "filled_data = data_with_nan.fillna(0)\n",
    "print(filled_data)"
   ]
  },
  {
   "cell_type": "markdown",
   "metadata": {},
   "source": [
    "### 6. Handling Series with Custom Index\n",
    "A custom index can be assigned to a Series, making it possible to label the data in meaningful ways."
   ]
  },
  {
   "cell_type": "code",
   "execution_count": 7,
   "metadata": {},
   "outputs": [
    {
     "name": "stdout",
     "output_type": "stream",
     "text": [
      "200\n",
      "Jan    110.0\n",
      "Feb    220.0\n",
      "Mar    330.0\n",
      "dtype: float64\n"
     ]
    }
   ],
   "source": [
    "# Creating a Series with a custom index\n",
    "data_custom_index = pd.Series([100, 200, 300], index=['Jan', 'Feb', 'Mar'])\n",
    "\n",
    "# Accessing elements using custom index\n",
    "print(data_custom_index['Feb'])\n",
    "\n",
    "# Performing operations with custom index\n",
    "print(data_custom_index * 1.1)"
   ]
  }
 ],
 "metadata": {
  "kernelspec": {
   "display_name": "Python 3",
   "language": "python",
   "name": "python3"
  },
  "language_info": {
   "codemirror_mode": {
    "name": "ipython",
    "version": 3
   },
   "file_extension": ".py",
   "mimetype": "text/x-python",
   "name": "python",
   "nbconvert_exporter": "python",
   "pygments_lexer": "ipython3",
   "version": "3.12.3"
  }
 },
 "nbformat": 4,
 "nbformat_minor": 2
}
