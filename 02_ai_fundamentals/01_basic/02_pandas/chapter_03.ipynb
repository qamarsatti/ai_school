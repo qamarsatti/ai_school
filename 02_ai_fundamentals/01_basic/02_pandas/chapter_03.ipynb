{
 "cells": [
  {
   "cell_type": "markdown",
   "metadata": {},
   "source": [
    "## Pandas DataFrame - Basic Operations\n",
    "\n",
    "#### 1 Creating a DataFrame\n",
    "- A DataFrame is a two-dimensional, size-mutable, and heterogeneous tabular data structure with labeled axes (rows and columns).\n",
    "\n"
   ]
  },
  {
   "cell_type": "code",
   "execution_count": 1,
   "metadata": {},
   "outputs": [],
   "source": [
    "import pandas as pd"
   ]
  },
  {
   "cell_type": "code",
   "execution_count": 2,
   "metadata": {},
   "outputs": [
    {
     "name": "stdout",
     "output_type": "stream",
     "text": [
      "    Name  Age      City\n",
      "0   John   28  New York\n",
      "1   Anna   24     Paris\n",
      "2  Peter   35    Berlin\n",
      "3  Linda   32    London\n"
     ]
    }
   ],
   "source": [
    "# Creating a DataFrame\n",
    "data = pd.DataFrame({\n",
    "    'Name': ['John', 'Anna', 'Peter', 'Linda'],\n",
    "    'Age': [28, 24, 35, 32],\n",
    "    'City': ['New York', 'Paris', 'Berlin', 'London']\n",
    "})\n",
    "print(data)"
   ]
  },
  {
   "cell_type": "markdown",
   "metadata": {},
   "source": [
    "### 2. DataFrame from a Dictionary\n",
    "A DataFrame can be created directly from a dictionary, where the keys are the column names, and the values are lists of column data."
   ]
  },
  {
   "cell_type": "code",
   "execution_count": 3,
   "metadata": {},
   "outputs": [
    {
     "name": "stdout",
     "output_type": "stream",
     "text": [
      "  Product  Price\n",
      "0       A     10\n",
      "1       B     20\n",
      "2       C     30\n"
     ]
    }
   ],
   "source": [
    "# Creating DataFrame from a dictionary\n",
    "data_dict = {'Product': ['A', 'B', 'C'],\n",
    "             'Price': [10, 20, 30]}\n",
    "df = pd.DataFrame(data_dict)\n",
    "print(df)"
   ]
  },
  {
   "cell_type": "markdown",
   "metadata": {},
   "source": [
    "### 3. Reading Data from Files (CSV, Excel, etc.)\n",
    "Pandas allows easy reading from external data sources like CSV, Excel, and databases."
   ]
  },
  {
   "cell_type": "code",
   "execution_count": 4,
   "metadata": {},
   "outputs": [
    {
     "name": "stdout",
     "output_type": "stream",
     "text": [
      "   Duration          Date  Pulse  Maxpulse  Calories\n",
      "0        60  '2020/12/01'    110       130     409.1\n",
      "1        60  '2020/12/02'    117       145     479.0\n",
      "2        60  '2020/12/03'    103       135     340.0\n",
      "3        45  '2020/12/04'    109       175     282.4\n",
      "4        45  '2020/12/05'    117       148     406.0\n"
     ]
    }
   ],
   "source": [
    "# Reading a CSV file\n",
    "df_csv = pd.read_csv('data/file.csv')\n",
    "\n",
    "# Displaying the first few rows\n",
    "print(df_csv.head())\n"
   ]
  },
  {
   "cell_type": "markdown",
   "metadata": {},
   "source": [
    "### 4. DataFrame Attributes (columns, index, shape, dtypes)\n",
    "You can access various attributes of a DataFrame to understand its structure."
   ]
  },
  {
   "cell_type": "code",
   "execution_count": 5,
   "metadata": {},
   "outputs": [
    {
     "name": "stdout",
     "output_type": "stream",
     "text": [
      "Index(['Name', 'Age', 'City'], dtype='object')\n",
      "RangeIndex(start=0, stop=4, step=1)\n",
      "(4, 3)\n",
      "Name    object\n",
      "Age      int64\n",
      "City    object\n",
      "dtype: object\n"
     ]
    }
   ],
   "source": [
    "# Column names\n",
    "print(data.columns)\n",
    "\n",
    "# Index (row labels)\n",
    "print(data.index)\n",
    "\n",
    "# Shape of the DataFrame (rows, columns)\n",
    "print(data.shape)\n",
    "\n",
    "# Data types of each column\n",
    "print(data.dtypes)"
   ]
  },
  {
   "cell_type": "markdown",
   "metadata": {},
   "source": [
    "### 5. Accessing Columns and Rows (loc vs. iloc)\n",
    "Pandas provides two primary ways to access data: loc for label-based indexing and iloc for position-based indexing."
   ]
  },
  {
   "cell_type": "code",
   "execution_count": 6,
   "metadata": {},
   "outputs": [
    {
     "name": "stdout",
     "output_type": "stream",
     "text": [
      "0     John\n",
      "1     Anna\n",
      "2    Peter\n",
      "3    Linda\n",
      "Name: Name, dtype: object\n",
      "Name        John\n",
      "Age           28\n",
      "City    New York\n",
      "Name: 0, dtype: object\n",
      "Name        John\n",
      "Age           28\n",
      "City    New York\n",
      "Name: 0, dtype: object\n",
      "John\n"
     ]
    }
   ],
   "source": [
    "# Accessing a column\n",
    "print(data['Name'])\n",
    "\n",
    "# Accessing rows using loc (label-based)\n",
    "print(data.loc[0])\n",
    "\n",
    "# Accessing rows using iloc (integer position-based)\n",
    "print(data.iloc[0])\n",
    "\n",
    "# Accessing a specific element\n",
    "print(data.loc[0, 'Name'])"
   ]
  },
  {
   "cell_type": "markdown",
   "metadata": {},
   "source": [
    "### 6. Modifying DataFrames (Adding/Removing Rows and Columns)\n",
    "You can add or remove columns and rows in a DataFrame."
   ]
  },
  {
   "cell_type": "code",
   "execution_count": 7,
   "metadata": {},
   "outputs": [
    {
     "name": "stdout",
     "output_type": "stream",
     "text": [
      "    Name  Age      City  Salary\n",
      "0   John   28  New York   50000\n",
      "1   Anna   24     Paris   60000\n",
      "2  Peter   35    Berlin   55000\n",
      "3  Linda   32    London   65000\n",
      "    Name  Age      City\n",
      "0   John   28  New York\n",
      "1   Anna   24     Paris\n",
      "2  Peter   35    Berlin\n",
      "3  Linda   32    London\n",
      "    Name  Age      City\n",
      "0   John   28  New York\n",
      "1   Anna   24     Paris\n",
      "2  Peter   35    Berlin\n",
      "3  Linda   32    London\n",
      "4    Sam   29     Tokyo\n",
      "    Name  Age    City\n",
      "1   Anna   24   Paris\n",
      "2  Peter   35  Berlin\n",
      "3  Linda   32  London\n",
      "4    Sam   29   Tokyo\n"
     ]
    }
   ],
   "source": [
    "# Adding a new column\n",
    "data['Salary'] = [50000, 60000, 55000, 65000]\n",
    "print(data)\n",
    "\n",
    "# Removing a column\n",
    "data = data.drop('Salary', axis=1)\n",
    "print(data)\n",
    "\n",
    "# Adding a new row\n",
    "new_row = pd.DataFrame({'Name': ['Sam'], 'Age': [29], 'City': ['Tokyo']})\n",
    "data = pd.concat([data, new_row], ignore_index=True)\n",
    "print(data)\n",
    "\n",
    "# Removing a row\n",
    "data = data.drop(0)\n",
    "print(data)"
   ]
  },
  {
   "cell_type": "markdown",
   "metadata": {},
   "source": [
    "### 7. Transposing DataFrames (df.T)\n",
    "Transposing a DataFrame swaps the rows and columns."
   ]
  },
  {
   "cell_type": "code",
   "execution_count": 8,
   "metadata": {},
   "outputs": [
    {
     "name": "stdout",
     "output_type": "stream",
     "text": [
      "          1       2       3      4\n",
      "Name   Anna   Peter   Linda    Sam\n",
      "Age      24      35      32     29\n",
      "City  Paris  Berlin  London  Tokyo\n"
     ]
    }
   ],
   "source": [
    "# Transposing the DataFrame\n",
    "print(data.T)"
   ]
  },
  {
   "cell_type": "markdown",
   "metadata": {},
   "source": [
    "### 8. Copying DataFrames (Deep vs Shallow Copy)\n",
    "A deep copy creates a new DataFrame that does not share the data with the original, while a shallow copy shares the data."
   ]
  },
  {
   "cell_type": "code",
   "execution_count": 9,
   "metadata": {},
   "outputs": [],
   "source": [
    "# Shallow copy (changes will reflect in both)\n",
    "shallow_copy = data.copy(deep=False)\n",
    "\n",
    "# Deep copy (independent of original)\n",
    "deep_copy = data.copy(deep=True)"
   ]
  }
 ],
 "metadata": {
  "kernelspec": {
   "display_name": "Python 3",
   "language": "python",
   "name": "python3"
  },
  "language_info": {
   "codemirror_mode": {
    "name": "ipython",
    "version": 3
   },
   "file_extension": ".py",
   "mimetype": "text/x-python",
   "name": "python",
   "nbconvert_exporter": "python",
   "pygments_lexer": "ipython3",
   "version": "3.12.3"
  }
 },
 "nbformat": 4,
 "nbformat_minor": 2
}
