{
 "cells": [
  {
   "cell_type": "markdown",
   "metadata": {},
   "source": [
    "## Data Cleaning and Transformation\n",
    "\n",
    "#### 1. Handling Missing Data\n",
    "- Pandas provides several ways to handle missing data, including detecting, dropping, and filling missing values.\n",
    "\n",
    "\n"
   ]
  },
  {
   "cell_type": "code",
   "execution_count": 1,
   "metadata": {},
   "outputs": [],
   "source": [
    "import pandas as pd"
   ]
  },
  {
   "cell_type": "code",
   "execution_count": 2,
   "metadata": {},
   "outputs": [
    {
     "name": "stdout",
     "output_type": "stream",
     "text": [
      "    Name    Age   City\n",
      "0  False  False  False\n",
      "1  False   True  False\n",
      "2  False  False  False\n",
      "3  False  False   True\n",
      "    Name   Age      City\n",
      "0   John  28.0  New York\n",
      "2  Peter  35.0    Berlin\n",
      "    Name      Age      City\n",
      "0   John     28.0  New York\n",
      "1   Anna  Unknown     Paris\n",
      "2  Peter     35.0    Berlin\n",
      "3  Linda     32.0   Unknown\n"
     ]
    }
   ],
   "source": [
    "# Creating a DataFrame with missing data\n",
    "data = pd.DataFrame({\n",
    "    'Name': ['John', 'Anna', 'Peter', 'Linda'],\n",
    "    'Age': [28, None, 35, 32],\n",
    "    'City': ['New York', 'Paris', 'Berlin', None]\n",
    "})\n",
    "\n",
    "# Detecting missing data\n",
    "print(data.isna())\n",
    "\n",
    "# Dropping rows with missing data\n",
    "print(data.dropna())\n",
    "\n",
    "# Filling missing data\n",
    "print(data.fillna('Unknown'))"
   ]
  },
  {
   "cell_type": "markdown",
   "metadata": {},
   "source": [
    "### 2. Detecting and Handling Duplicates\n",
    "Pandas allows you to detect and remove duplicate rows."
   ]
  },
  {
   "cell_type": "code",
   "execution_count": 3,
   "metadata": {},
   "outputs": [
    {
     "name": "stdout",
     "output_type": "stream",
     "text": [
      "0    False\n",
      "1    False\n",
      "2    False\n",
      "3    False\n",
      "dtype: bool\n",
      "    Name   Age      City\n",
      "0   John  28.0  New York\n",
      "1   Anna   NaN     Paris\n",
      "2  Peter  35.0    Berlin\n",
      "3  Linda  32.0      None\n"
     ]
    }
   ],
   "source": [
    "# Detecting duplicates\n",
    "print(data.duplicated())\n",
    "\n",
    "# Removing duplicates\n",
    "data_no_duplicates = data.drop_duplicates()\n",
    "print(data_no_duplicates)"
   ]
  },
  {
   "cell_type": "markdown",
   "metadata": {},
   "source": [
    "### 3. Data Type Conversion (astype())\n",
    "You can convert the data type of a column using the astype() method."
   ]
  },
  {
   "cell_type": "code",
   "execution_count": 4,
   "metadata": {},
   "outputs": [
    {
     "name": "stdout",
     "output_type": "stream",
     "text": [
      "Name    object\n",
      "Age      int32\n",
      "City    object\n",
      "dtype: object\n"
     ]
    }
   ],
   "source": [
    "# Converting 'Age' column to integer (after filling NaN)\n",
    "data['Age'] = data['Age'].fillna(0).astype(int)\n",
    "print(data.dtypes)"
   ]
  },
  {
   "cell_type": "markdown",
   "metadata": {},
   "source": [
    "### 4. Renaming Columns and Indexes\n",
    "Rename columns or indexes using rename()."
   ]
  },
  {
   "cell_type": "code",
   "execution_count": 5,
   "metadata": {},
   "outputs": [
    {
     "name": "stdout",
     "output_type": "stream",
     "text": [
      "  Full Name  Age      City\n",
      "0      John   28  New York\n",
      "1      Anna    0     Paris\n",
      "2     Peter   35    Berlin\n",
      "3     Linda   32      None\n",
      "     Full Name  Age      City\n",
      "Row1      John   28  New York\n",
      "Row2      Anna    0     Paris\n",
      "2        Peter   35    Berlin\n",
      "3        Linda   32      None\n"
     ]
    }
   ],
   "source": [
    "# Renaming a column\n",
    "data = data.rename(columns={'Name': 'Full Name'})\n",
    "print(data)\n",
    "\n",
    "# Renaming index\n",
    "data = data.rename(index={0: 'Row1', 1: 'Row2'})\n",
    "print(data)"
   ]
  },
  {
   "cell_type": "markdown",
   "metadata": {},
   "source": [
    "### 5. Applying Functions (apply(), map(), applymap())\n",
    "You can apply functions to DataFrames using apply() for rows/columns, map() for Series, and applymap() for element-wise application."
   ]
  },
  {
   "cell_type": "code",
   "execution_count": 6,
   "metadata": {},
   "outputs": [
    {
     "name": "stdout",
     "output_type": "stream",
     "text": [
      "     Full Name  Age      City\n",
      "Row1      John   29  New York\n",
      "Row2      Anna    1     Paris\n",
      "2        Peter   36    Berlin\n",
      "3        Linda   33      None\n",
      "     Full Name  Age City\n",
      "Row1      John   29   NY\n",
      "Row2      Anna    1   FR\n",
      "2        Peter   36   DE\n",
      "3        Linda   33  NaN\n",
      "   A   B\n",
      "0  2   8\n",
      "1  4  10\n",
      "2  6  12\n"
     ]
    },
    {
     "name": "stderr",
     "output_type": "stream",
     "text": [
      "C:\\Users\\SP23-RAI-014.CUI\\AppData\\Local\\Temp\\ipykernel_12444\\1913954138.py:11: FutureWarning: DataFrame.applymap has been deprecated. Use DataFrame.map instead.\n",
      "  print(data.applymap(lambda x: x * 2))\n"
     ]
    }
   ],
   "source": [
    "# Applying a function to a column using apply()\n",
    "data['Age'] = data['Age'].apply(lambda x: x + 1)\n",
    "print(data)\n",
    "\n",
    "# Using map() on a Series\n",
    "data['City'] = data['City'].map({'New York': 'NY', 'Paris': 'FR', 'Berlin': 'DE'})\n",
    "print(data)\n",
    "\n",
    "# Using applymap() for element-wise operations\n",
    "data = pd.DataFrame({'A': [1, 2, 3], 'B': [4, 5, 6]})\n",
    "print(data.applymap(lambda x: x * 2))"
   ]
  },
  {
   "cell_type": "markdown",
   "metadata": {},
   "source": [
    "### 6. Removing Unwanted Data (Filtering)\n",
    "You can filter out unwanted rows or columns based on conditions."
   ]
  },
  {
   "cell_type": "code",
   "execution_count": 7,
   "metadata": {},
   "outputs": [
    {
     "name": "stdout",
     "output_type": "stream",
     "text": [
      "Columns in DataFrame: Index(['Name', 'Age', 'City'], dtype='object')\n",
      "    Name  Age    City\n",
      "2  Peter   35  Berlin\n",
      "3  Linda   32  London\n"
     ]
    }
   ],
   "source": [
    "# Creating a DataFrame (ensure 'Age' column is present)\n",
    "data = pd.DataFrame({\n",
    "    'Name': ['John', 'Anna', 'Peter', 'Linda'],\n",
    "    'Age': [28, 24, 35, 32],\n",
    "    'City': ['New York', 'Paris', 'Berlin', 'London']\n",
    "})\n",
    "\n",
    "# Check the columns in the DataFrame to verify 'Age' is present\n",
    "print(\"Columns in DataFrame:\", data.columns)\n",
    "\n",
    "# Filtering out rows where 'Age' is less than 30\n",
    "try:\n",
    "    filtered_data = data[data['Age'] >= 30]\n",
    "    print(filtered_data)\n",
    "except KeyError as e:\n",
    "    print(f\"Error: {e}. Column not found in the DataFrame.\")\n"
   ]
  },
  {
   "cell_type": "markdown",
   "metadata": {},
   "source": [
    "### 7. Changing DataFrame Layout (Pivot, Melt, Stack, Unstack)\n",
    "You can reshape the DataFrame using pivot(), melt(), stack(), and unstack()."
   ]
  },
  {
   "cell_type": "code",
   "execution_count": 8,
   "metadata": {},
   "outputs": [
    {
     "name": "stdout",
     "output_type": "stream",
     "text": [
      "Year  2021  2022\n",
      "Name            \n",
      "Anna   700   800\n",
      "John   500   600\n",
      "   Name  Year  value\n",
      "0  Anna  2021    700\n",
      "1  John  2021    500\n",
      "2  Anna  2022    800\n",
      "3  John  2022    600\n",
      "Name  Year\n",
      "Anna  2021    700\n",
      "      2022    800\n",
      "John  2021    500\n",
      "      2022    600\n",
      "dtype: int64\n",
      "Year  2021  2022\n",
      "Name            \n",
      "Anna   700   800\n",
      "John   500   600\n"
     ]
    }
   ],
   "source": [
    "# Creating a new DataFrame for layout transformations\n",
    "df_layout = pd.DataFrame({\n",
    "    'Name': ['John', 'Anna', 'John', 'Anna'],\n",
    "    'Year': [2021, 2021, 2022, 2022],\n",
    "    'Sales': [500, 700, 600, 800]\n",
    "})\n",
    "\n",
    "# Pivoting the DataFrame\n",
    "pivoted = df_layout.pivot(index='Name', columns='Year', values='Sales')\n",
    "print(pivoted)\n",
    "\n",
    "# Melting the DataFrame (reverse of pivot)\n",
    "melted = pd.melt(pivoted.reset_index(), id_vars='Name', value_vars=[2021, 2022])\n",
    "print(melted)\n",
    "\n",
    "# Stacking and Unstacking\n",
    "stacked = pivoted.stack()\n",
    "print(stacked)\n",
    "\n",
    "unstacked = stacked.unstack()\n",
    "print(unstacked)"
   ]
  },
  {
   "cell_type": "markdown",
   "metadata": {},
   "source": [
    "### 8. Replacing Values\n",
    "Replace specific values in the DataFrame using the replace() method."
   ]
  },
  {
   "cell_type": "code",
   "execution_count": 9,
   "metadata": {},
   "outputs": [
    {
     "name": "stdout",
     "output_type": "stream",
     "text": [
      "    Name  Age      City\n",
      "0   John   28  New York\n",
      "1   Anna   24     Paris\n",
      "2  Peter   35    Berlin\n",
      "3  Linda   32    London\n"
     ]
    }
   ],
   "source": [
    "# Replacing values in the 'City' column\n",
    "data['City'] = data['City'].replace({'NY': 'New York', 'FR': 'Paris', 'DE': 'Berlin'})\n",
    "print(data)"
   ]
  }
 ],
 "metadata": {
  "kernelspec": {
   "display_name": "Python 3",
   "language": "python",
   "name": "python3"
  },
  "language_info": {
   "codemirror_mode": {
    "name": "ipython",
    "version": 3
   },
   "file_extension": ".py",
   "mimetype": "text/x-python",
   "name": "python",
   "nbconvert_exporter": "python",
   "pygments_lexer": "ipython3",
   "version": "3.12.3"
  }
 },
 "nbformat": 4,
 "nbformat_minor": 2
}
