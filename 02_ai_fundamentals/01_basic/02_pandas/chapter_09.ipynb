{
 "cells": [
  {
   "cell_type": "markdown",
   "metadata": {},
   "source": [
    "# Advanced Data Operations\n",
    "### 1. Merging, Joining, and Concatenating DataFrames\n",
    "Merging, joining, and concatenating DataFrames are essential operations for advanced data analysis."
   ]
  },
  {
   "cell_type": "code",
   "execution_count": 1,
   "metadata": {},
   "outputs": [],
   "source": [
    "import pandas as pd"
   ]
  },
  {
   "cell_type": "code",
   "execution_count": 2,
   "metadata": {},
   "outputs": [
    {
     "data": {
      "text/html": [
       "<div>\n",
       "<style scoped>\n",
       "    .dataframe tbody tr th:only-of-type {\n",
       "        vertical-align: middle;\n",
       "    }\n",
       "\n",
       "    .dataframe tbody tr th {\n",
       "        vertical-align: top;\n",
       "    }\n",
       "\n",
       "    .dataframe thead th {\n",
       "        text-align: right;\n",
       "    }\n",
       "</style>\n",
       "<table border=\"1\" class=\"dataframe\">\n",
       "  <thead>\n",
       "    <tr style=\"text-align: right;\">\n",
       "      <th></th>\n",
       "      <th>A</th>\n",
       "      <th>B</th>\n",
       "      <th>key</th>\n",
       "      <th>C</th>\n",
       "      <th>D</th>\n",
       "    </tr>\n",
       "  </thead>\n",
       "  <tbody>\n",
       "    <tr>\n",
       "      <th>0</th>\n",
       "      <td>A0</td>\n",
       "      <td>B0</td>\n",
       "      <td>K0</td>\n",
       "      <td>C0</td>\n",
       "      <td>D0</td>\n",
       "    </tr>\n",
       "    <tr>\n",
       "      <th>1</th>\n",
       "      <td>A1</td>\n",
       "      <td>B1</td>\n",
       "      <td>K1</td>\n",
       "      <td>C1</td>\n",
       "      <td>D1</td>\n",
       "    </tr>\n",
       "    <tr>\n",
       "      <th>2</th>\n",
       "      <td>A2</td>\n",
       "      <td>B2</td>\n",
       "      <td>K2</td>\n",
       "      <td>C2</td>\n",
       "      <td>D2</td>\n",
       "    </tr>\n",
       "    <tr>\n",
       "      <th>3</th>\n",
       "      <td>A3</td>\n",
       "      <td>B3</td>\n",
       "      <td>K3</td>\n",
       "      <td>C3</td>\n",
       "      <td>D3</td>\n",
       "    </tr>\n",
       "  </tbody>\n",
       "</table>\n",
       "</div>"
      ],
      "text/plain": [
       "    A   B key   C   D\n",
       "0  A0  B0  K0  C0  D0\n",
       "1  A1  B1  K1  C1  D1\n",
       "2  A2  B2  K2  C2  D2\n",
       "3  A3  B3  K3  C3  D3"
      ]
     },
     "execution_count": 2,
     "metadata": {},
     "output_type": "execute_result"
    }
   ],
   "source": [
    "# Creating sample DataFrames\n",
    "df1 = pd.DataFrame({\n",
    "    'A': ['A0', 'A1', 'A2', 'A3'],\n",
    "    'B': ['B0', 'B1', 'B2', 'B3'],\n",
    "    'key': ['K0', 'K1', 'K2', 'K3']\n",
    "})\n",
    "\n",
    "df2 = pd.DataFrame({\n",
    "    'C': ['C0', 'C1', 'C2', 'C3'],\n",
    "    'D': ['D0', 'D1', 'D2', 'D3'],\n",
    "    'key': ['K0', 'K1', 'K2', 'K3']\n",
    "})\n",
    "\n",
    "# Merging DataFrames on a common key\n",
    "merged_df = pd.merge(df1, df2, on='key')\n",
    "merged_df"
   ]
  },
  {
   "cell_type": "markdown",
   "metadata": {},
   "source": [
    "### 2. Joining DataFrames with Different Keys\n",
    "Join operations allow combining DataFrames on different columns or indexes."
   ]
  },
  {
   "cell_type": "code",
   "execution_count": 3,
   "metadata": {},
   "outputs": [
    {
     "data": {
      "text/html": [
       "<div>\n",
       "<style scoped>\n",
       "    .dataframe tbody tr th:only-of-type {\n",
       "        vertical-align: middle;\n",
       "    }\n",
       "\n",
       "    .dataframe tbody tr th {\n",
       "        vertical-align: top;\n",
       "    }\n",
       "\n",
       "    .dataframe thead th {\n",
       "        text-align: right;\n",
       "    }\n",
       "</style>\n",
       "<table border=\"1\" class=\"dataframe\">\n",
       "  <thead>\n",
       "    <tr style=\"text-align: right;\">\n",
       "      <th></th>\n",
       "      <th>A</th>\n",
       "      <th>B</th>\n",
       "      <th>left_key</th>\n",
       "      <th>C</th>\n",
       "      <th>D</th>\n",
       "      <th>right_key</th>\n",
       "    </tr>\n",
       "  </thead>\n",
       "  <tbody>\n",
       "    <tr>\n",
       "      <th>0</th>\n",
       "      <td>A0</td>\n",
       "      <td>B0</td>\n",
       "      <td>K0</td>\n",
       "      <td>C0</td>\n",
       "      <td>D0</td>\n",
       "      <td>K0</td>\n",
       "    </tr>\n",
       "    <tr>\n",
       "      <th>1</th>\n",
       "      <td>A1</td>\n",
       "      <td>B1</td>\n",
       "      <td>K1</td>\n",
       "      <td>C1</td>\n",
       "      <td>D1</td>\n",
       "      <td>K1</td>\n",
       "    </tr>\n",
       "    <tr>\n",
       "      <th>2</th>\n",
       "      <td>A2</td>\n",
       "      <td>B2</td>\n",
       "      <td>K2</td>\n",
       "      <td>C2</td>\n",
       "      <td>D2</td>\n",
       "      <td>K2</td>\n",
       "    </tr>\n",
       "    <tr>\n",
       "      <th>3</th>\n",
       "      <td>A3</td>\n",
       "      <td>B3</td>\n",
       "      <td>K3</td>\n",
       "      <td>NaN</td>\n",
       "      <td>NaN</td>\n",
       "      <td>NaN</td>\n",
       "    </tr>\n",
       "    <tr>\n",
       "      <th>4</th>\n",
       "      <td>NaN</td>\n",
       "      <td>NaN</td>\n",
       "      <td>NaN</td>\n",
       "      <td>C3</td>\n",
       "      <td>D3</td>\n",
       "      <td>K4</td>\n",
       "    </tr>\n",
       "  </tbody>\n",
       "</table>\n",
       "</div>"
      ],
      "text/plain": [
       "     A    B left_key    C    D right_key\n",
       "0   A0   B0       K0   C0   D0        K0\n",
       "1   A1   B1       K1   C1   D1        K1\n",
       "2   A2   B2       K2   C2   D2        K2\n",
       "3   A3   B3       K3  NaN  NaN       NaN\n",
       "4  NaN  NaN      NaN   C3   D3        K4"
      ]
     },
     "execution_count": 3,
     "metadata": {},
     "output_type": "execute_result"
    }
   ],
   "source": [
    "df3 = pd.DataFrame({\n",
    "    'A': ['A0', 'A1', 'A2', 'A3'],\n",
    "    'B': ['B0', 'B1', 'B2', 'B3'],\n",
    "    'left_key': ['K0', 'K1', 'K2', 'K3']\n",
    "})\n",
    "\n",
    "df4 = pd.DataFrame({\n",
    "    'C': ['C0', 'C1', 'C2', 'C3'],\n",
    "    'D': ['D0', 'D1', 'D2', 'D3'],\n",
    "    'right_key': ['K0', 'K1', 'K2', 'K4']\n",
    "})\n",
    "\n",
    "# Performing a join on different keys\n",
    "joined_df = df3.merge(df4, left_on='left_key', right_on='right_key', how='outer')\n",
    "joined_df"
   ]
  },
  {
   "cell_type": "markdown",
   "metadata": {},
   "source": [
    "### 3. Working with Time Series Data (Date/Time Indexing)\n",
    "Pandas allows easy manipulation and indexing of datetime objects."
   ]
  },
  {
   "cell_type": "code",
   "execution_count": 4,
   "metadata": {},
   "outputs": [
    {
     "data": {
      "text/html": [
       "<div>\n",
       "<style scoped>\n",
       "    .dataframe tbody tr th:only-of-type {\n",
       "        vertical-align: middle;\n",
       "    }\n",
       "\n",
       "    .dataframe tbody tr th {\n",
       "        vertical-align: top;\n",
       "    }\n",
       "\n",
       "    .dataframe thead th {\n",
       "        text-align: right;\n",
       "    }\n",
       "</style>\n",
       "<table border=\"1\" class=\"dataframe\">\n",
       "  <thead>\n",
       "    <tr style=\"text-align: right;\">\n",
       "      <th></th>\n",
       "      <th>A</th>\n",
       "      <th>B</th>\n",
       "      <th>C</th>\n",
       "      <th>D</th>\n",
       "    </tr>\n",
       "  </thead>\n",
       "  <tbody>\n",
       "    <tr>\n",
       "      <th>2023-01-01</th>\n",
       "      <td>-1.015680</td>\n",
       "      <td>1.236142</td>\n",
       "      <td>2.461412</td>\n",
       "      <td>-2.052370</td>\n",
       "    </tr>\n",
       "    <tr>\n",
       "      <th>2023-01-02</th>\n",
       "      <td>0.116609</td>\n",
       "      <td>0.116860</td>\n",
       "      <td>-0.020305</td>\n",
       "      <td>0.445906</td>\n",
       "    </tr>\n",
       "    <tr>\n",
       "      <th>2023-01-03</th>\n",
       "      <td>1.773577</td>\n",
       "      <td>-0.448391</td>\n",
       "      <td>-1.054172</td>\n",
       "      <td>-0.970925</td>\n",
       "    </tr>\n",
       "    <tr>\n",
       "      <th>2023-01-04</th>\n",
       "      <td>0.326539</td>\n",
       "      <td>1.552083</td>\n",
       "      <td>-0.107974</td>\n",
       "      <td>-0.628141</td>\n",
       "    </tr>\n",
       "    <tr>\n",
       "      <th>2023-01-05</th>\n",
       "      <td>0.965653</td>\n",
       "      <td>0.926000</td>\n",
       "      <td>-0.294991</td>\n",
       "      <td>-0.457058</td>\n",
       "    </tr>\n",
       "    <tr>\n",
       "      <th>2023-01-06</th>\n",
       "      <td>-0.249184</td>\n",
       "      <td>-0.432646</td>\n",
       "      <td>1.845401</td>\n",
       "      <td>0.395997</td>\n",
       "    </tr>\n",
       "    <tr>\n",
       "      <th>2023-01-07</th>\n",
       "      <td>0.561234</td>\n",
       "      <td>-1.276479</td>\n",
       "      <td>-0.857479</td>\n",
       "      <td>-0.193743</td>\n",
       "    </tr>\n",
       "    <tr>\n",
       "      <th>2023-01-08</th>\n",
       "      <td>1.419959</td>\n",
       "      <td>-0.808924</td>\n",
       "      <td>0.610362</td>\n",
       "      <td>0.891876</td>\n",
       "    </tr>\n",
       "    <tr>\n",
       "      <th>2023-01-09</th>\n",
       "      <td>-1.100796</td>\n",
       "      <td>-1.533393</td>\n",
       "      <td>-0.607381</td>\n",
       "      <td>0.121537</td>\n",
       "    </tr>\n",
       "    <tr>\n",
       "      <th>2023-01-10</th>\n",
       "      <td>-0.810395</td>\n",
       "      <td>0.957642</td>\n",
       "      <td>-0.106758</td>\n",
       "      <td>2.154395</td>\n",
       "    </tr>\n",
       "  </tbody>\n",
       "</table>\n",
       "</div>"
      ],
      "text/plain": [
       "                   A         B         C         D\n",
       "2023-01-01 -1.015680  1.236142  2.461412 -2.052370\n",
       "2023-01-02  0.116609  0.116860 -0.020305  0.445906\n",
       "2023-01-03  1.773577 -0.448391 -1.054172 -0.970925\n",
       "2023-01-04  0.326539  1.552083 -0.107974 -0.628141\n",
       "2023-01-05  0.965653  0.926000 -0.294991 -0.457058\n",
       "2023-01-06 -0.249184 -0.432646  1.845401  0.395997\n",
       "2023-01-07  0.561234 -1.276479 -0.857479 -0.193743\n",
       "2023-01-08  1.419959 -0.808924  0.610362  0.891876\n",
       "2023-01-09 -1.100796 -1.533393 -0.607381  0.121537\n",
       "2023-01-10 -0.810395  0.957642 -0.106758  2.154395"
      ]
     },
     "execution_count": 4,
     "metadata": {},
     "output_type": "execute_result"
    }
   ],
   "source": [
    "import numpy as np\n",
    "\n",
    "# Creating a date range\n",
    "dates = pd.date_range('20230101', periods=10)\n",
    "\n",
    "# Creating a DataFrame with the date index\n",
    "df_time = pd.DataFrame(np.random.randn(10, 4), index=dates, columns=list('ABCD'))\n",
    "df_time"
   ]
  },
  {
   "cell_type": "markdown",
   "metadata": {},
   "source": [
    "### 4. Resampling Time Series Data\n",
    "Resampling is used to aggregate data over a new time period."
   ]
  },
  {
   "cell_type": "code",
   "execution_count": 5,
   "metadata": {},
   "outputs": [
    {
     "data": {
      "text/html": [
       "<div>\n",
       "<style scoped>\n",
       "    .dataframe tbody tr th:only-of-type {\n",
       "        vertical-align: middle;\n",
       "    }\n",
       "\n",
       "    .dataframe tbody tr th {\n",
       "        vertical-align: top;\n",
       "    }\n",
       "\n",
       "    .dataframe thead th {\n",
       "        text-align: right;\n",
       "    }\n",
       "</style>\n",
       "<table border=\"1\" class=\"dataframe\">\n",
       "  <thead>\n",
       "    <tr style=\"text-align: right;\">\n",
       "      <th></th>\n",
       "      <th>A</th>\n",
       "      <th>B</th>\n",
       "      <th>C</th>\n",
       "      <th>D</th>\n",
       "    </tr>\n",
       "  </thead>\n",
       "  <tbody>\n",
       "    <tr>\n",
       "      <th>2023-01-01</th>\n",
       "      <td>-1.015680</td>\n",
       "      <td>1.236142</td>\n",
       "      <td>2.461412</td>\n",
       "      <td>-2.052370</td>\n",
       "    </tr>\n",
       "    <tr>\n",
       "      <th>2023-01-08</th>\n",
       "      <td>4.914387</td>\n",
       "      <td>-0.371496</td>\n",
       "      <td>0.120842</td>\n",
       "      <td>-0.516087</td>\n",
       "    </tr>\n",
       "    <tr>\n",
       "      <th>2023-01-15</th>\n",
       "      <td>-1.911191</td>\n",
       "      <td>-0.575752</td>\n",
       "      <td>-0.714139</td>\n",
       "      <td>2.275932</td>\n",
       "    </tr>\n",
       "  </tbody>\n",
       "</table>\n",
       "</div>"
      ],
      "text/plain": [
       "                   A         B         C         D\n",
       "2023-01-01 -1.015680  1.236142  2.461412 -2.052370\n",
       "2023-01-08  4.914387 -0.371496  0.120842 -0.516087\n",
       "2023-01-15 -1.911191 -0.575752 -0.714139  2.275932"
      ]
     },
     "execution_count": 5,
     "metadata": {},
     "output_type": "execute_result"
    }
   ],
   "source": [
    "# Resample by week and calculate the sum\n",
    "weekly_resampled = df_time.resample('W').sum()\n",
    "weekly_resampled"
   ]
  },
  {
   "cell_type": "markdown",
   "metadata": {},
   "source": [
    "### 5. Dealing with Outliers\n",
    "Outliers can be identified and dealt with using statistical methods."
   ]
  },
  {
   "cell_type": "code",
   "execution_count": 6,
   "metadata": {},
   "outputs": [
    {
     "data": {
      "text/plain": [
       "array([ 8.35188449e+00,  1.05669864e+00, -3.95157737e-01,  3.08291703e-01,\n",
       "       -2.35716303e+00, -1.49814837e+00, -1.60127695e-01, -1.00717389e+00,\n",
       "        2.03729664e+00, -5.08229456e-01,  9.88117022e+00,  1.03451542e+00,\n",
       "       -4.02641825e-01,  8.76049745e-01, -7.59925531e-01,  9.65658633e-01,\n",
       "       -1.32401792e+00, -8.91567930e-01,  2.83365447e-02,  9.18457702e-01,\n",
       "        9.14283003e+00, -7.03607172e-01, -2.00889850e+00,  1.69997087e+00,\n",
       "       -6.02429436e-01, -1.39346843e-01, -7.58627195e-01,  5.51044960e-01,\n",
       "        9.87653813e-01,  5.27083220e-01, -1.43083883e+00,  9.35588068e-01,\n",
       "        7.20210566e-01,  7.41447644e-01,  8.09603404e-01,  4.73474593e-01,\n",
       "       -2.62223310e-01,  9.97555630e-02, -4.10770513e-01,  8.53888359e+00,\n",
       "        3.02377553e-01, -2.63074420e-01, -9.55861407e-02,  2.22583907e-01,\n",
       "       -7.24531195e-01,  1.29441730e-01, -1.51036473e+00, -7.86731933e-01,\n",
       "        5.10337325e-01,  9.95188571e+00,  7.75977212e-01,  5.04984946e-01,\n",
       "       -7.22171913e-01, -5.77984003e-01,  2.68666324e+00, -3.85546962e-01,\n",
       "        8.30053301e-01,  6.27319576e-01, -1.15383351e+00,  9.59356528e+00,\n",
       "       -1.78884174e-01,  7.51300811e-01,  5.22760882e-03,  1.96764075e+00,\n",
       "       -1.05414367e+00, -6.74248875e-01, -4.09517764e-01, -2.35853622e-01,\n",
       "        2.27080879e-01,  9.69604264e-01,  2.01761371e-02, -7.77446409e-01,\n",
       "        2.14925449e+00,  8.54119230e-01, -1.90389120e+00, -3.97769509e-01,\n",
       "        2.05215202e+00, -3.50132680e-01,  3.43164720e-01,  9.36237866e-01,\n",
       "        1.25181635e+00, -1.05475415e-01,  6.67147189e-01, -2.38313671e-01,\n",
       "        3.98494466e-01, -9.11906107e-01,  5.07158242e-01,  8.88219768e+00,\n",
       "        1.31433571e+00,  1.28512699e+00, -6.75832291e-01, -7.64771045e-01,\n",
       "        3.70825859e+00, -2.15250177e-01,  1.05241067e-01,  1.29898665e+00,\n",
       "       -4.45700186e-01])"
      ]
     },
     "execution_count": 6,
     "metadata": {},
     "output_type": "execute_result"
    }
   ],
   "source": [
    "# Detecting outliers using z-score\n",
    "from scipy import stats\n",
    "\n",
    "# Generating some random data\n",
    "data = np.random.normal(0, 1, 100)\n",
    "data[::10] = np.random.normal(10, 1, 10)  # Injecting outliers\n",
    "\n",
    "# Using z-score to filter outliers\n",
    "outliers = np.abs(stats.zscore(data)) > 3\n",
    "cleaned_data = data[~outliers]\n",
    "\n",
    "cleaned_data"
   ]
  },
  {
   "cell_type": "markdown",
   "metadata": {},
   "source": [
    "### 6. MultiIndex DataFrame Manipulations\n",
    "MultiIndex allows hierarchical indexing in Pandas, useful for complex data."
   ]
  },
  {
   "cell_type": "code",
   "execution_count": 7,
   "metadata": {},
   "outputs": [
    {
     "data": {
      "text/html": [
       "<div>\n",
       "<style scoped>\n",
       "    .dataframe tbody tr th:only-of-type {\n",
       "        vertical-align: middle;\n",
       "    }\n",
       "\n",
       "    .dataframe tbody tr th {\n",
       "        vertical-align: top;\n",
       "    }\n",
       "\n",
       "    .dataframe thead th {\n",
       "        text-align: right;\n",
       "    }\n",
       "</style>\n",
       "<table border=\"1\" class=\"dataframe\">\n",
       "  <thead>\n",
       "    <tr style=\"text-align: right;\">\n",
       "      <th></th>\n",
       "      <th>Values</th>\n",
       "    </tr>\n",
       "    <tr>\n",
       "      <th>Index</th>\n",
       "      <th></th>\n",
       "    </tr>\n",
       "  </thead>\n",
       "  <tbody>\n",
       "    <tr>\n",
       "      <th>1</th>\n",
       "      <td>10</td>\n",
       "    </tr>\n",
       "    <tr>\n",
       "      <th>2</th>\n",
       "      <td>20</td>\n",
       "    </tr>\n",
       "  </tbody>\n",
       "</table>\n",
       "</div>"
      ],
      "text/plain": [
       "       Values\n",
       "Index        \n",
       "1          10\n",
       "2          20"
      ]
     },
     "execution_count": 7,
     "metadata": {},
     "output_type": "execute_result"
    }
   ],
   "source": [
    "# Creating a MultiIndex DataFrame\n",
    "arrays = [\n",
    "    ['A', 'A', 'B', 'B'],\n",
    "    [1, 2, 1, 2]\n",
    "]\n",
    "\n",
    "index = pd.MultiIndex.from_arrays(arrays, names=('Group', 'Index'))\n",
    "multi_index_df = pd.DataFrame({'Values': [10, 20, 30, 40]}, index=index)\n",
    "\n",
    "# Accessing data in MultiIndex\n",
    "multi_index_df.loc['A']"
   ]
  },
  {
   "cell_type": "markdown",
   "metadata": {},
   "source": [
    "### 7. Working with Categorical Data\n",
    "Pandas has a powerful categorical data type that saves memory and improves performance."
   ]
  },
  {
   "cell_type": "code",
   "execution_count": 8,
   "metadata": {},
   "outputs": [
    {
     "data": {
      "text/plain": [
       "Index(['apple', 'banana', 'orange'], dtype='object')"
      ]
     },
     "execution_count": 8,
     "metadata": {},
     "output_type": "execute_result"
    }
   ],
   "source": [
    "# Creating a categorical column\n",
    "df_cat = pd.DataFrame({\n",
    "    'fruits': ['apple', 'banana', 'apple', 'orange', 'banana'],\n",
    "    'count': [5, 7, 8, 6, 9]\n",
    "})\n",
    "\n",
    "# Converting to categorical type\n",
    "df_cat['fruits'] = df_cat['fruits'].astype('category')\n",
    "\n",
    "# Displaying the categories\n",
    "df_cat['fruits'].cat.categories"
   ]
  },
  {
   "cell_type": "markdown",
   "metadata": {},
   "source": [
    "### 8. Advanced String Manipulation\n",
    "Pandas provides rich functionality for string operations."
   ]
  },
  {
   "cell_type": "code",
   "execution_count": 9,
   "metadata": {},
   "outputs": [
    {
     "data": {
      "text/html": [
       "<div>\n",
       "<style scoped>\n",
       "    .dataframe tbody tr th:only-of-type {\n",
       "        vertical-align: middle;\n",
       "    }\n",
       "\n",
       "    .dataframe tbody tr th {\n",
       "        vertical-align: top;\n",
       "    }\n",
       "\n",
       "    .dataframe thead th {\n",
       "        text-align: right;\n",
       "    }\n",
       "</style>\n",
       "<table border=\"1\" class=\"dataframe\">\n",
       "  <thead>\n",
       "    <tr style=\"text-align: right;\">\n",
       "      <th></th>\n",
       "      <th>Name</th>\n",
       "      <th>First</th>\n",
       "      <th>Last</th>\n",
       "    </tr>\n",
       "  </thead>\n",
       "  <tbody>\n",
       "    <tr>\n",
       "      <th>0</th>\n",
       "      <td>John Doe</td>\n",
       "      <td>John</td>\n",
       "      <td>Doe</td>\n",
       "    </tr>\n",
       "    <tr>\n",
       "      <th>1</th>\n",
       "      <td>Jane Smith</td>\n",
       "      <td>Jane</td>\n",
       "      <td>Smith</td>\n",
       "    </tr>\n",
       "    <tr>\n",
       "      <th>2</th>\n",
       "      <td>Mike Johnson</td>\n",
       "      <td>Mike</td>\n",
       "      <td>Johnson</td>\n",
       "    </tr>\n",
       "    <tr>\n",
       "      <th>3</th>\n",
       "      <td>Emily Davis</td>\n",
       "      <td>Emily</td>\n",
       "      <td>Davis</td>\n",
       "    </tr>\n",
       "  </tbody>\n",
       "</table>\n",
       "</div>"
      ],
      "text/plain": [
       "           Name  First     Last\n",
       "0      John Doe   John      Doe\n",
       "1    Jane Smith   Jane    Smith\n",
       "2  Mike Johnson   Mike  Johnson\n",
       "3   Emily Davis  Emily    Davis"
      ]
     },
     "execution_count": 9,
     "metadata": {},
     "output_type": "execute_result"
    }
   ],
   "source": [
    "# Creating a DataFrame with text data\n",
    "df_text = pd.DataFrame({\n",
    "    'Name': ['John Doe', 'Jane Smith', 'Mike Johnson', 'Emily Davis']\n",
    "})\n",
    "\n",
    "# Splitting names into first and last names\n",
    "df_text[['First', 'Last']] = df_text['Name'].str.split(' ', expand=True)\n",
    "df_text"
   ]
  },
  {
   "cell_type": "markdown",
   "metadata": {},
   "source": [
    "### 9. Working with Sparse Data\n",
    "Sparse data structures in Pandas are useful for efficiently storing data with a large number of missing or default values."
   ]
  },
  {
   "cell_type": "code",
   "execution_count": 10,
   "metadata": {},
   "outputs": [
    {
     "data": {
      "text/html": [
       "<div>\n",
       "<style scoped>\n",
       "    .dataframe tbody tr th:only-of-type {\n",
       "        vertical-align: middle;\n",
       "    }\n",
       "\n",
       "    .dataframe tbody tr th {\n",
       "        vertical-align: top;\n",
       "    }\n",
       "\n",
       "    .dataframe thead th {\n",
       "        text-align: right;\n",
       "    }\n",
       "</style>\n",
       "<table border=\"1\" class=\"dataframe\">\n",
       "  <thead>\n",
       "    <tr style=\"text-align: right;\">\n",
       "      <th></th>\n",
       "      <th>A</th>\n",
       "      <th>B</th>\n",
       "    </tr>\n",
       "  </thead>\n",
       "  <tbody>\n",
       "    <tr>\n",
       "      <th>0</th>\n",
       "      <td>1</td>\n",
       "      <td>0</td>\n",
       "    </tr>\n",
       "    <tr>\n",
       "      <th>1</th>\n",
       "      <td>0</td>\n",
       "      <td>0</td>\n",
       "    </tr>\n",
       "    <tr>\n",
       "      <th>2</th>\n",
       "      <td>0</td>\n",
       "      <td>0</td>\n",
       "    </tr>\n",
       "    <tr>\n",
       "      <th>3</th>\n",
       "      <td>3</td>\n",
       "      <td>0</td>\n",
       "    </tr>\n",
       "    <tr>\n",
       "      <th>4</th>\n",
       "      <td>0</td>\n",
       "      <td>0</td>\n",
       "    </tr>\n",
       "  </tbody>\n",
       "</table>\n",
       "</div>"
      ],
      "text/plain": [
       "   A  B\n",
       "0  1  0\n",
       "1  0  0\n",
       "2  0  0\n",
       "3  3  0\n",
       "4  0  0"
      ]
     },
     "execution_count": 10,
     "metadata": {},
     "output_type": "execute_result"
    }
   ],
   "source": [
    "# Creating a sparse DataFrame\n",
    "df_sparse = pd.DataFrame({\n",
    "    'A': [1, 0, 0, 3, 0],\n",
    "    'B': [0, 0, 0, 0, 0]\n",
    "}).astype(pd.SparseDtype(\"int\", fill_value=0))\n",
    "\n",
    "# Displaying the sparse DataFrame\n",
    "df_sparse"
   ]
  }
 ],
 "metadata": {
  "kernelspec": {
   "display_name": "Python 3",
   "language": "python",
   "name": "python3"
  },
  "language_info": {
   "codemirror_mode": {
    "name": "ipython",
    "version": 3
   },
   "file_extension": ".py",
   "mimetype": "text/x-python",
   "name": "python",
   "nbconvert_exporter": "python",
   "pygments_lexer": "ipython3",
   "version": "3.12.3"
  }
 },
 "nbformat": 4,
 "nbformat_minor": 2
}
