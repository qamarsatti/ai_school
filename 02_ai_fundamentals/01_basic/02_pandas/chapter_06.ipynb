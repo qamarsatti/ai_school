{
 "cells": [
  {
   "cell_type": "markdown",
   "metadata": {},
   "source": [
    "## Data Input/Output (I/O Operations)\n",
    "\n",
    "#### 1. Reading and Writing CSV Files\n",
    "- CSV (Comma-Separated Values) is a common format for storing tabular data.\n"
   ]
  },
  {
   "cell_type": "code",
   "execution_count": 1,
   "metadata": {},
   "outputs": [],
   "source": [
    "import pandas as pd"
   ]
  },
  {
   "cell_type": "markdown",
   "metadata": {},
   "source": []
  },
  {
   "cell_type": "code",
   "execution_count": 2,
   "metadata": {},
   "outputs": [
    {
     "name": "stdout",
     "output_type": "stream",
     "text": [
      "   Duration          Date  Pulse  Maxpulse  Calories\n",
      "0        60  '2020/12/01'    110       130     409.1\n",
      "1        60  '2020/12/02'    117       145     479.0\n",
      "2        60  '2020/12/03'    103       135     340.0\n",
      "3        45  '2020/12/04'    109       175     282.4\n",
      "4        45  '2020/12/05'    117       148     406.0\n"
     ]
    }
   ],
   "source": [
    "# Reading a CSV file into a DataFrame\n",
    "df_csv = pd.read_csv('data/file.csv')\n",
    "print(df_csv.head())"
   ]
  },
  {
   "cell_type": "code",
   "execution_count": 3,
   "metadata": {},
   "outputs": [],
   "source": [
    "# Writing a DataFrame to a CSV file\n",
    "df_csv.to_csv('data/output.csv', index=False)"
   ]
  },
  {
   "cell_type": "markdown",
   "metadata": {},
   "source": [
    "### 3. Reading from SQL Databases\n",
    "Pandas allows you to read data directly from SQL databases.<br>\n",
    "First you keep db file in data folder"
   ]
  },
  {
   "cell_type": "code",
   "execution_count": 4,
   "metadata": {},
   "outputs": [
    {
     "name": "stdout",
     "output_type": "stream",
     "text": [
      "   basemodel_ptr_id         name start_with  flag\n",
      "0              1393    AUSTRALIA          .  None\n",
      "1              1432       CANADA          .  None\n",
      "2              1433  NEW ZEALAND          .  None\n",
      "3              1434          U K          .  None\n",
      "4              1435          U S          .  None\n"
     ]
    }
   ],
   "source": [
    "import sqlite3\n",
    "\n",
    "# Establishing a database connection (SQLite example)\n",
    "conn = sqlite3.connect('data/db.sqlite3')\n",
    "\n",
    "# Reading from a SQL table into a DataFrame\n",
    "df_sql = pd.read_sql('SELECT * FROM core_country', conn)\n",
    "print(df_sql.head())\n",
    "\n",
    "# Closing the connection\n",
    "conn.close()"
   ]
  },
  {
   "cell_type": "markdown",
   "metadata": {},
   "source": [
    "### 4. Working with JSON Data\n",
    "JSON (JavaScript Object Notation) is a popular format for data exchange."
   ]
  },
  {
   "cell_type": "code",
   "execution_count": 5,
   "metadata": {},
   "outputs": [
    {
     "name": "stdout",
     "output_type": "stream",
     "text": [
      "                                            people\n",
      "0  {'Name': 'John', 'Age': 28, 'City': 'New York'}\n",
      "1     {'Name': 'Anna', 'Age': 24, 'City': 'Paris'}\n"
     ]
    }
   ],
   "source": [
    "# Reading JSON data into a DataFrame\n",
    "df_json = pd.read_json('data/data.json')\n",
    "print(df_json.head())\n"
   ]
  },
  {
   "cell_type": "code",
   "execution_count": 6,
   "metadata": {},
   "outputs": [],
   "source": [
    "# Writing a DataFrame to a JSON file\n",
    "df_json.to_json('data/output.json', orient='records')"
   ]
  },
  {
   "cell_type": "markdown",
   "metadata": {},
   "source": [
    "### 5. Handling Large Datasets Efficiently\n",
    "For large datasets, you can read files in chunks to avoid memory issues."
   ]
  },
  {
   "cell_type": "code",
   "execution_count": 7,
   "metadata": {},
   "outputs": [
    {
     "name": "stdout",
     "output_type": "stream",
     "text": [
      "Total rows: 32\n"
     ]
    }
   ],
   "source": [
    "# Reading a CSV file in chunks\n",
    "chunk_size = 1000\n",
    "chunks = pd.read_csv('data/file.csv', chunksize=chunk_size)\n",
    "\n",
    "# Processing chunks (e.g., calculating the total number of rows)\n",
    "total_rows = sum(len(chunk) for chunk in chunks)\n",
    "print(\"Total rows:\", total_rows)"
   ]
  },
  {
   "cell_type": "markdown",
   "metadata": {},
   "source": [
    "### 6. Working with APIs and Data from the Web\n",
    "Use libraries like requests to fetch data from APIs and parse it with Pandas."
   ]
  },
  {
   "cell_type": "code",
   "execution_count": 8,
   "metadata": {},
   "outputs": [
    {
     "name": "stdout",
     "output_type": "stream",
     "text": [
      "   userId  id                                              title  \\\n",
      "0       1   1  sunt aut facere repellat provident occaecati e...   \n",
      "1       1   2                                       qui est esse   \n",
      "2       1   3  ea molestias quasi exercitationem repellat qui...   \n",
      "3       1   4                               eum et est occaecati   \n",
      "4       1   5                                 nesciunt quas odio   \n",
      "\n",
      "                                                body  \n",
      "0  quia et suscipit\\nsuscipit recusandae consequu...  \n",
      "1  est rerum tempore vitae\\nsequi sint nihil repr...  \n",
      "2  et iusto sed quo iure\\nvoluptatem occaecati om...  \n",
      "3  ullam et saepe reiciendis voluptatem adipisci\\...  \n",
      "4  repudiandae veniam quaerat sunt sed\\nalias aut...  \n"
     ]
    }
   ],
   "source": [
    "import requests\n",
    "\n",
    "# Fetching data from a web API (example using a placeholder API)\n",
    "url = 'https://jsonplaceholder.typicode.com/posts'\n",
    "response = requests.get(url)\n",
    "\n",
    "# Loading JSON response into a DataFrame\n",
    "df_api = pd.DataFrame(response.json())\n",
    "print(df_api.head())"
   ]
  },
  {
   "cell_type": "markdown",
   "metadata": {},
   "source": [
    "### 7. Saving DataFrames to Different Formats (HTML, JSON, SQL, etc.)\n",
    "You can save DataFrames in various formats beyond CSV and Excel."
   ]
  },
  {
   "cell_type": "code",
   "execution_count": 9,
   "metadata": {},
   "outputs": [],
   "source": [
    "# Writing a DataFrame to an HTML file\n",
    "df_csv.to_html('data/output.html')"
   ]
  }
 ],
 "metadata": {
  "kernelspec": {
   "display_name": "Python 3",
   "language": "python",
   "name": "python3"
  },
  "language_info": {
   "codemirror_mode": {
    "name": "ipython",
    "version": 3
   },
   "file_extension": ".py",
   "mimetype": "text/x-python",
   "name": "python",
   "nbconvert_exporter": "python",
   "pygments_lexer": "ipython3",
   "version": "3.12.3"
  }
 },
 "nbformat": 4,
 "nbformat_minor": 2
}
