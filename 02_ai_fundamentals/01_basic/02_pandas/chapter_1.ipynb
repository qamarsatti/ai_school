{
 "cells": [
  {
   "cell_type": "markdown",
   "metadata": {},
   "source": [
    "### Introduction to Pandas\n",
    "\n",
    "#### 1. What is Pandas?\n",
    "- Pandas is an open-source data manipulation and analysis library for Python.\n",
    "- It provides data structures like **Series** and **DataFrame** to handle and manipulate structured data easily.\n",
    "- Key features:\n",
    "  - Powerful data handling and manipulation capabilities\n",
    "  - Integration with NumPy for numerical operations\n",
    "  - Tools for reading and writing data in various formats (CSV, Excel, SQL databases, etc.)\n",
    "\n",
    "#### 2. Installing Pandas\n",
    "- To install Pandas, you can use pip, a package manager for Python:\n",
    "  \n",
    "  ```bash\n",
    "  pip install pandas\n"
   ]
  },
  {
   "cell_type": "markdown",
   "metadata": {},
   "source": [
    "#### 3. Importing Pandas in Python"
   ]
  },
  {
   "cell_type": "code",
   "execution_count": 1,
   "metadata": {},
   "outputs": [],
   "source": [
    "import pandas as pd"
   ]
  },
  {
   "cell_type": "markdown",
   "metadata": {},
   "source": [
    "### 4. Understanding Series and DataFrames (Core Data Structures)\n",
    "***Series***: A one-dimensional labeled array, capable of holding any data type (integers, strings, floats, etc.).<br>\n",
    "***DataFrame***: A two-dimensional, size-mutable, and potentially heterogeneous tabular data structure with labeled axes (rows and columns)."
   ]
  },
  {
   "cell_type": "code",
   "execution_count": 2,
   "metadata": {},
   "outputs": [
    {
     "name": "stdout",
     "output_type": "stream",
     "text": [
      "0    1\n",
      "1    2\n",
      "2    3\n",
      "3    4\n",
      "4    5\n",
      "dtype: int64\n"
     ]
    }
   ],
   "source": [
    "# Series\n",
    "import pandas as pd\n",
    "data = pd.Series([1, 2, 3, 4, 5])\n",
    "print(data)"
   ]
  },
  {
   "cell_type": "code",
   "execution_count": 3,
   "metadata": {},
   "outputs": [
    {
     "name": "stdout",
     "output_type": "stream",
     "text": [
      "    Name  Age\n",
      "0   John   28\n",
      "1   Anna   24\n",
      "2  Peter   35\n",
      "3  Linda   32\n"
     ]
    }
   ],
   "source": [
    "# DataFrame\n",
    "data = {'Name': ['John', 'Anna', 'Peter', 'Linda'],\n",
    "        'Age': [28, 24, 35, 32]}\n",
    "df = pd.DataFrame(data)\n",
    "print(df)"
   ]
  },
  {
   "cell_type": "markdown",
   "metadata": {},
   "source": [
    "### 5. Pandas vs. Numpy vs. Excel\n",
    "#### Pandas:\n",
    "More suited for tabular, heterogeneous data, with labels.\n",
    "#### Numpy: \n",
    "Focuses on numerical operations with homogeneous arrays, best for mathematical computations.\n",
    "#### Excel:\n",
    "Useful for smaller datasets, manual data entry, and basic data manipulation. Less powerful for handling large datasets or complex operations.\n"
   ]
  },
  {
   "cell_type": "markdown",
   "metadata": {},
   "source": []
  },
  {
   "cell_type": "markdown",
   "metadata": {},
   "source": [
    "### 6. Importance of Pandas for Data Science and Machine Learning\n",
    "Data Preprocessing: Pandas allows easy cleaning, transformation, and preparation of raw data for analysis or machine learning models.\n",
    "#### Data Exploration: \n",
    "With Pandas, you can summarize and visualize data to discover patterns and insights.\n",
    "Integration with Libraries: Pandas integrates well with other libraries like Matplotlib and Seaborn for data visualization, and Scikit-learn for machine learning.\n",
    "#### Handling Large Datasets: \n",
    "Optimized to handle large datasets efficiently compared to standard Python lists or dictionaries, making it crucial for scalable data science applications."
   ]
  }
 ],
 "metadata": {
  "kernelspec": {
   "display_name": "Python 3",
   "language": "python",
   "name": "python3"
  },
  "language_info": {
   "codemirror_mode": {
    "name": "ipython",
    "version": 3
   },
   "file_extension": ".py",
   "mimetype": "text/x-python",
   "name": "python",
   "nbconvert_exporter": "python",
   "pygments_lexer": "ipython3",
   "version": "3.12.3"
  }
 },
 "nbformat": 4,
 "nbformat_minor": 2
}
