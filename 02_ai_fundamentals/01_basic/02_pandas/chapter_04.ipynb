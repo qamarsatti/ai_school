{
 "cells": [
  {
   "cell_type": "markdown",
   "metadata": {},
   "source": [
    "## Data Selection and Indexing\n",
    "\n",
    "#### 4.1 DataFrame Indexing and Slicing\n",
    "- You can index and slice DataFrames using labels (via `loc`) or positional indexing (via `iloc`).\n",
    "\n"
   ]
  },
  {
   "cell_type": "code",
   "execution_count": 1,
   "metadata": {},
   "outputs": [],
   "source": [
    "import pandas as pd"
   ]
  },
  {
   "cell_type": "code",
   "execution_count": 2,
   "metadata": {},
   "outputs": [
    {
     "name": "stdout",
     "output_type": "stream",
     "text": [
      "Name        John\n",
      "Age           28\n",
      "City    New York\n",
      "Name: 0, dtype: object\n",
      "Name        John\n",
      "Age           28\n",
      "City    New York\n",
      "Name: 0, dtype: object\n",
      "    Name  Age    City\n",
      "1   Anna   24   Paris\n",
      "2  Peter   35  Berlin\n"
     ]
    }
   ],
   "source": [
    "# Creating a DataFrame\n",
    "data = pd.DataFrame({\n",
    "    'Name': ['John', 'Anna', 'Peter', 'Linda'],\n",
    "    'Age': [28, 24, 35, 32],\n",
    "    'City': ['New York', 'Paris', 'Berlin', 'London']\n",
    "})\n",
    "\n",
    "# Indexing using loc (label-based)\n",
    "print(data.loc[0])\n",
    "\n",
    "# Indexing using iloc (position-based)\n",
    "print(data.iloc[0])\n",
    "\n",
    "# Slicing rows\n",
    "print(data[1:3])"
   ]
  },
  {
   "cell_type": "markdown",
   "metadata": {},
   "source": [
    "### 2. Boolean Indexing\n",
    "Boolean indexing allows you to filter data based on conditions."
   ]
  },
  {
   "cell_type": "code",
   "execution_count": 3,
   "metadata": {},
   "outputs": [
    {
     "name": "stdout",
     "output_type": "stream",
     "text": [
      "    Name  Age    City\n",
      "2  Peter   35  Berlin\n",
      "3  Linda   32  London\n"
     ]
    }
   ],
   "source": [
    "# Boolean indexing: Selecting rows where age is greater than 30\n",
    "\n",
    "print(data[data['Age'] > 30])"
   ]
  },
  {
   "cell_type": "markdown",
   "metadata": {},
   "source": [
    "### 3. Setting and Resetting Index\n",
    "You can set one or more columns as the DataFrame's index, and reset the index back to default."
   ]
  },
  {
   "cell_type": "code",
   "execution_count": 4,
   "metadata": {},
   "outputs": [
    {
     "name": "stdout",
     "output_type": "stream",
     "text": [
      "       Age      City\n",
      "Name                \n",
      "John    28  New York\n",
      "Anna    24     Paris\n",
      "Peter   35    Berlin\n",
      "Linda   32    London\n",
      "    Name  Age      City\n",
      "0   John   28  New York\n",
      "1   Anna   24     Paris\n",
      "2  Peter   35    Berlin\n",
      "3  Linda   32    London\n"
     ]
    }
   ],
   "source": [
    "# Setting 'Name' as the index\n",
    "data = data.set_index('Name')\n",
    "print(data)\n",
    "\n",
    "# Resetting the index back to default\n",
    "data = data.reset_index()\n",
    "print(data)"
   ]
  },
  {
   "cell_type": "markdown",
   "metadata": {},
   "source": [
    "### 4. Conditional Selections (Querying a DataFrame)\n",
    "Use conditions to query a DataFrame based on specific criteria."
   ]
  },
  {
   "cell_type": "code",
   "execution_count": 5,
   "metadata": {},
   "outputs": [
    {
     "name": "stdout",
     "output_type": "stream",
     "text": [
      "    Name  Age    City\n",
      "2  Peter   35  Berlin\n",
      "3  Linda   32  London\n"
     ]
    }
   ],
   "source": [
    "# Using query to filter rows where Age is greater than 30\n",
    "print(data.query('Age > 30'))"
   ]
  },
  {
   "cell_type": "code",
   "execution_count": 6,
   "metadata": {},
   "outputs": [
    {
     "name": "stdout",
     "output_type": "stream",
     "text": [
      "              Revenue\n",
      "Year Quarter         \n",
      "2024 Q1           200\n",
      "     Q2           300\n",
      "2025 Q1           400\n",
      "     Q2           500\n",
      "         Revenue\n",
      "Quarter         \n",
      "Q1           200\n",
      "Q2           300\n"
     ]
    }
   ],
   "source": [
    "# Creating a DataFrame with a MultiIndex\n",
    "index = pd.MultiIndex.from_tuples([('2024', 'Q1'), ('2024', 'Q2'), ('2025', 'Q1'), ('2025', 'Q2')], names=['Year', 'Quarter'])\n",
    "multi_index_df = pd.DataFrame({'Revenue': [200, 300, 400, 500]}, index=index)\n",
    "\n",
    "# Accessing data in a MultiIndex DataFrame\n",
    "print(multi_index_df)\n",
    "print(multi_index_df.loc['2024'])"
   ]
  },
  {
   "cell_type": "code",
   "execution_count": 7,
   "metadata": {},
   "outputs": [
    {
     "name": "stdout",
     "output_type": "stream",
     "text": [
      "    Name  Age      City\n",
      "0   John   28  New York\n",
      "1   Anna   24     Paris\n",
      "2  Peter   35    Berlin\n",
      "3  Linda   32    London\n",
      "    Name  Age      City\n",
      "1   Anna   24     Paris\n",
      "0   John   28  New York\n",
      "3  Linda   32    London\n",
      "2  Peter   35    Berlin\n"
     ]
    }
   ],
   "source": [
    "# Sorting by index\n",
    "sorted_by_index = data.sort_index()\n",
    "print(sorted_by_index)\n",
    "\n",
    "# Sorting by column (e.g., Age)\n",
    "sorted_by_age = data.sort_values(by='Age')\n",
    "print(sorted_by_age)"
   ]
  },
  {
   "cell_type": "code",
   "execution_count": 8,
   "metadata": {},
   "outputs": [
    {
     "name": "stdout",
     "output_type": "stream",
     "text": [
      "    Name  Age\n",
      "0   John   28\n",
      "1   Anna   24\n",
      "2  Peter   35\n",
      "3  Linda   32\n"
     ]
    }
   ],
   "source": [
    "# Selecting multiple columns\n",
    "print(data[['Name', 'Age']])"
   ]
  },
  {
   "cell_type": "code",
   "execution_count": 9,
   "metadata": {},
   "outputs": [
    {
     "name": "stdout",
     "output_type": "stream",
     "text": [
      "    Name    Age   City\n",
      "0  False  False  False\n",
      "1  False   True  False\n",
      "2  False  False  False\n",
      "3  False   True  False\n",
      "    Name   Age      City\n",
      "0   John  28.0  New York\n",
      "2  Peter  35.0    Berlin\n",
      "    Name   Age      City\n",
      "0   John  28.0  New York\n",
      "1   Anna   0.0     Paris\n",
      "2  Peter  35.0    Berlin\n",
      "3  Linda   0.0    London\n"
     ]
    }
   ],
   "source": [
    "# Creating a DataFrame with missing values\n",
    "data_with_nan = pd.DataFrame({\n",
    "    'Name': ['John', 'Anna', 'Peter', 'Linda'],\n",
    "    'Age': [28, None, 35, None],\n",
    "    'City': ['New York', 'Paris', 'Berlin', 'London']\n",
    "})\n",
    "\n",
    "# Detecting missing values\n",
    "print(data_with_nan.isna())\n",
    "\n",
    "# Dropping rows with missing values\n",
    "print(data_with_nan.dropna())\n",
    "\n",
    "# Filling missing values\n",
    "print(data_with_nan.fillna(0))"
   ]
  }
 ],
 "metadata": {
  "kernelspec": {
   "display_name": "Python 3",
   "language": "python",
   "name": "python3"
  },
  "language_info": {
   "codemirror_mode": {
    "name": "ipython",
    "version": 3
   },
   "file_extension": ".py",
   "mimetype": "text/x-python",
   "name": "python",
   "nbconvert_exporter": "python",
   "pygments_lexer": "ipython3",
   "version": "3.12.3"
  }
 },
 "nbformat": 4,
 "nbformat_minor": 2
}
