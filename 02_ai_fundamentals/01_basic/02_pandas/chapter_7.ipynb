{
 "cells": [
  {
   "cell_type": "markdown",
   "metadata": {},
   "source": [
    "## Data Aggregation and Grouping\n",
    "\n",
    "#### 1. GroupBy Operations\n",
    "- `groupby()` allows you to split your DataFrame into groups based on some criteria.\n",
    "\n"
   ]
  },
  {
   "cell_type": "code",
   "execution_count": 1,
   "metadata": {},
   "outputs": [],
   "source": [
    "import pandas as pd"
   ]
  },
  {
   "cell_type": "code",
   "execution_count": 2,
   "metadata": {},
   "outputs": [
    {
     "name": "stdout",
     "output_type": "stream",
     "text": [
      "<pandas.core.groupby.generic.DataFrameGroupBy object at 0x0000023F18633E00>\n"
     ]
    }
   ],
   "source": [
    "# Creating a sample DataFrame\n",
    "data = pd.DataFrame({\n",
    "    'Category': ['A', 'A', 'B', 'B', 'C', 'C'],\n",
    "    'Value': [10, 20, 30, 40, 50, 60]\n",
    "})\n",
    "\n",
    "# Grouping by 'Category'\n",
    "grouped = data.groupby('Category')\n",
    "print(grouped)"
   ]
  },
  {
   "cell_type": "markdown",
   "metadata": {},
   "source": [
    "### 2. Aggregating Data (sum(), mean(), count())\n",
    "After grouping, you can perform aggregation operations like sum(), mean(), or count() on each group."
   ]
  },
  {
   "cell_type": "code",
   "execution_count": 3,
   "metadata": {},
   "outputs": [
    {
     "name": "stdout",
     "output_type": "stream",
     "text": [
      "          Value\n",
      "Category       \n",
      "A            30\n",
      "B            70\n",
      "C           110\n",
      "          Value\n",
      "Category       \n",
      "A          15.0\n",
      "B          35.0\n",
      "C          55.0\n",
      "          Value\n",
      "Category       \n",
      "A             2\n",
      "B             2\n",
      "C             2\n"
     ]
    }
   ],
   "source": [
    "# Sum of values by 'Category'\n",
    "sum_values = grouped.sum()\n",
    "print(sum_values)\n",
    "\n",
    "# Mean of values by 'Category'\n",
    "mean_values = grouped.mean()\n",
    "print(mean_values)\n",
    "\n",
    "# Count of values by 'Category'\n",
    "count_values = grouped.count()\n",
    "print(count_values)"
   ]
  },
  {
   "cell_type": "markdown",
   "metadata": {},
   "source": [
    "### 3. Multiple Aggregation Functions (agg())\n",
    "You can apply multiple aggregation functions to a grouped DataFrame using agg()."
   ]
  },
  {
   "cell_type": "code",
   "execution_count": 4,
   "metadata": {},
   "outputs": [
    {
     "name": "stdout",
     "output_type": "stream",
     "text": [
      "          sum  mean  count\n",
      "Category                  \n",
      "A          30  15.0      2\n",
      "B          70  35.0      2\n",
      "C         110  55.0      2\n"
     ]
    }
   ],
   "source": [
    "# Applying multiple aggregation functions\n",
    "multi_agg = grouped['Value'].agg(['sum', 'mean', 'count'])\n",
    "print(multi_agg)"
   ]
  },
  {
   "cell_type": "markdown",
   "metadata": {},
   "source": [
    "### 4. Grouping by Multiple Columns\n",
    "You can group by more than one column to perform multi-level grouping."
   ]
  },
  {
   "cell_type": "code",
   "execution_count": 5,
   "metadata": {},
   "outputs": [
    {
     "name": "stdout",
     "output_type": "stream",
     "text": [
      "                      Value\n",
      "Category SubCategory       \n",
      "A        X               10\n",
      "         Y               20\n",
      "B        X               30\n",
      "         Y               40\n",
      "C        X               50\n",
      "         Y               60\n"
     ]
    }
   ],
   "source": [
    "# Creating a sample DataFrame\n",
    "data_multi = pd.DataFrame({\n",
    "    'Category': ['A', 'A', 'B', 'B', 'C', 'C'],\n",
    "    'SubCategory': ['X', 'Y', 'X', 'Y', 'X', 'Y'],\n",
    "    'Value': [10, 20, 30, 40, 50, 60]\n",
    "})\n",
    "\n",
    "# Grouping by multiple columns\n",
    "grouped_multi = data_multi.groupby(['Category', 'SubCategory']).sum()\n",
    "print(grouped_multi)"
   ]
  },
  {
   "cell_type": "markdown",
   "metadata": {},
   "source": [
    "### 5. Transform and Filter with GroupBy\n",
    "Use transform() to perform operations and return results aligned with the original DataFrame.\n",
    "Use filter() to filter out groups based on a condition."
   ]
  },
  {
   "cell_type": "code",
   "execution_count": 6,
   "metadata": {},
   "outputs": [
    {
     "name": "stdout",
     "output_type": "stream",
     "text": [
      "  Category  Value  Value_Mean\n",
      "0        A     10        15.0\n",
      "1        A     20        15.0\n",
      "2        B     30        35.0\n",
      "3        B     40        35.0\n",
      "4        C     50        55.0\n",
      "5        C     60        55.0\n"
     ]
    }
   ],
   "source": [
    "# Calculating the mean value for each 'Category'\n",
    "data['Value_Mean'] = grouped['Value'].transform('mean')\n",
    "print(data)"
   ]
  },
  {
   "cell_type": "code",
   "execution_count": 7,
   "metadata": {},
   "outputs": [
    {
     "name": "stdout",
     "output_type": "stream",
     "text": [
      "  Category  Value  Value_Mean\n",
      "2        B     30        35.0\n",
      "3        B     40        35.0\n",
      "4        C     50        55.0\n",
      "5        C     60        55.0\n"
     ]
    }
   ],
   "source": [
    "# Filtering groups where the sum of 'Value' is greater than 50\n",
    "filtered = grouped.filter(lambda x: x['Value'].sum() > 50)\n",
    "print(filtered)"
   ]
  },
  {
   "cell_type": "markdown",
   "metadata": {},
   "source": [
    "### 6. Pivot Tables and Cross-tabulations\n",
    "Pivot tables provide a way to summarize data, similar to Excel pivot tables.\n",
    "crosstab() provides a frequency table for cross-tabulation."
   ]
  },
  {
   "cell_type": "code",
   "execution_count": 8,
   "metadata": {},
   "outputs": [
    {
     "name": "stdout",
     "output_type": "stream",
     "text": [
      "SubCategory   X   Y\n",
      "Category           \n",
      "A            10  20\n",
      "B            30  40\n",
      "C            50  60\n"
     ]
    }
   ],
   "source": [
    "# Creating a pivot table\n",
    "pivot_table = data_multi.pivot_table(values='Value', index='Category', columns='SubCategory', aggfunc='sum')\n",
    "print(pivot_table)"
   ]
  },
  {
   "cell_type": "code",
   "execution_count": 9,
   "metadata": {},
   "outputs": [
    {
     "name": "stdout",
     "output_type": "stream",
     "text": [
      "SubCategory  X  Y\n",
      "Category         \n",
      "A            1  1\n",
      "B            1  1\n",
      "C            1  1\n"
     ]
    }
   ],
   "source": [
    "# Creating a cross-tabulation\n",
    "crosstab = pd.crosstab(data_multi['Category'], data_multi['SubCategory'])\n",
    "print(crosstab)"
   ]
  },
  {
   "cell_type": "markdown",
   "metadata": {},
   "source": [
    "### 7. Window Functions (Rolling, Expanding, and EWM)\n",
    "Window functions like rolling(), expanding(), and ewm() allow for operations over a sliding window or cumulative basis."
   ]
  },
  {
   "cell_type": "code",
   "execution_count": 10,
   "metadata": {},
   "outputs": [
    {
     "name": "stdout",
     "output_type": "stream",
     "text": [
      "        Date  Value  Rolling_Sum\n",
      "0 2023-01-01     10          NaN\n",
      "1 2023-01-02     20          NaN\n",
      "2 2023-01-03     30         60.0\n",
      "3 2023-01-04     40         90.0\n",
      "4 2023-01-05     50        120.0\n",
      "5 2023-01-06     60        150.0\n"
     ]
    }
   ],
   "source": [
    "# Creating a time series DataFrame\n",
    "time_data = pd.DataFrame({\n",
    "    'Date': pd.date_range('2023-01-01', periods=6),\n",
    "    'Value': [10, 20, 30, 40, 50, 60]\n",
    "})\n",
    "\n",
    "# Calculating a rolling sum with a window size of 3\n",
    "time_data['Rolling_Sum'] = time_data['Value'].rolling(window=3).sum()\n",
    "print(time_data)"
   ]
  },
  {
   "cell_type": "code",
   "execution_count": 11,
   "metadata": {},
   "outputs": [
    {
     "name": "stdout",
     "output_type": "stream",
     "text": [
      "        Date  Value  Rolling_Sum  Expanding_Sum\n",
      "0 2023-01-01     10          NaN           10.0\n",
      "1 2023-01-02     20          NaN           30.0\n",
      "2 2023-01-03     30         60.0           60.0\n",
      "3 2023-01-04     40         90.0          100.0\n",
      "4 2023-01-05     50        120.0          150.0\n",
      "5 2023-01-06     60        150.0          210.0\n"
     ]
    }
   ],
   "source": [
    "# Expanding sum (cumulative sum)\n",
    "time_data['Expanding_Sum'] = time_data['Value'].expanding().sum()\n",
    "print(time_data)"
   ]
  },
  {
   "cell_type": "code",
   "execution_count": 12,
   "metadata": {},
   "outputs": [
    {
     "name": "stdout",
     "output_type": "stream",
     "text": [
      "        Date  Value  Rolling_Sum  Expanding_Sum        EWM\n",
      "0 2023-01-01     10          NaN           10.0  10.000000\n",
      "1 2023-01-02     20          NaN           30.0  17.500000\n",
      "2 2023-01-03     30         60.0           60.0  26.153846\n",
      "3 2023-01-04     40         90.0          100.0  35.500000\n",
      "4 2023-01-05     50        120.0          150.0  45.206612\n",
      "5 2023-01-06     60        150.0          210.0  55.082418\n"
     ]
    }
   ],
   "source": [
    "# Calculating an exponentially weighted mean\n",
    "time_data['EWM'] = time_data['Value'].ewm(span=2).mean()\n",
    "print(time_data)"
   ]
  }
 ],
 "metadata": {
  "kernelspec": {
   "display_name": "Python 3",
   "language": "python",
   "name": "python3"
  },
  "language_info": {
   "codemirror_mode": {
    "name": "ipython",
    "version": 3
   },
   "file_extension": ".py",
   "mimetype": "text/x-python",
   "name": "python",
   "nbconvert_exporter": "python",
   "pygments_lexer": "ipython3",
   "version": "3.12.3"
  }
 },
 "nbformat": 4,
 "nbformat_minor": 2
}
