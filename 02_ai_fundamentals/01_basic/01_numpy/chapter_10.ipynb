{
 "cells": [
  {
   "cell_type": "markdown",
   "metadata": {},
   "source": [
    "# Handling Missing Data in NumPy\n",
    "\n",
    "In data science, missing values are common. NumPy provides ways to handle missing data, such as identifying, replacing, and performing aggregations while safely ignoring missing values (represented as `np.nan`).\n",
    "\n",
    "---\n",
    "\n",
    "### 1. Identifying Missing Data with `np.nan`\n",
    "\n",
    "`np.nan` represents \"Not a Number\" in NumPy, and it is used to represent missing or undefined data in arrays.\n",
    "\n"
   ]
  },
  {
   "cell_type": "code",
   "execution_count": 1,
   "metadata": {},
   "outputs": [],
   "source": [
    "import numpy as np"
   ]
  },
  {
   "cell_type": "code",
   "execution_count": 2,
   "metadata": {},
   "outputs": [
    {
     "name": "stdout",
     "output_type": "stream",
     "text": [
      "Array with missing values (np.nan): [ 1.  2. nan  4. nan  6.]\n"
     ]
    }
   ],
   "source": [
    "# Creating an array with missing values (np.nan)\n",
    "arr_with_nan = np.array([1, 2, np.nan, 4, np.nan, 6])\n",
    "print(\"Array with missing values (np.nan):\", arr_with_nan)"
   ]
  },
  {
   "cell_type": "markdown",
   "metadata": {},
   "source": [
    "### 2. Removing or Replacing Missing Data\n",
    "We can either remove or replace missing data using np.isnan() to identify np.nan values and np.nan_to_num() to replace them."
   ]
  },
  {
   "cell_type": "code",
   "execution_count": 3,
   "metadata": {},
   "outputs": [
    {
     "name": "stdout",
     "output_type": "stream",
     "text": [
      "Boolean array indicating missing values (True for np.nan): [False False  True False  True False]\n"
     ]
    }
   ],
   "source": [
    "# Identifying missing data\n",
    "is_nan = np.isnan(arr_with_nan)\n",
    "print(\"Boolean array indicating missing values (True for np.nan):\", is_nan)"
   ]
  },
  {
   "cell_type": "code",
   "execution_count": 4,
   "metadata": {},
   "outputs": [
    {
     "name": "stdout",
     "output_type": "stream",
     "text": [
      "Array without missing values: [1. 2. 4. 6.]\n"
     ]
    }
   ],
   "source": [
    "# Removing missing values\n",
    "arr_without_nan = arr_with_nan[~np.isnan(arr_with_nan)]\n",
    "print(\"Array without missing values:\", arr_without_nan)"
   ]
  },
  {
   "cell_type": "code",
   "execution_count": 5,
   "metadata": {},
   "outputs": [
    {
     "name": "stdout",
     "output_type": "stream",
     "text": [
      "Array with missing values replaced by 0: [1. 2. 0. 4. 0. 6.]\n",
      "Array with missing values replaced by -1: [ 1.  2. -1.  4. -1.  6.]\n"
     ]
    }
   ],
   "source": [
    "# Replacing missing values with 0\n",
    "arr_replaced_nan = np.nan_to_num(arr_with_nan, nan=0)\n",
    "print(\"Array with missing values replaced by 0:\", arr_replaced_nan)\n",
    "\n",
    "# Replacing missing values with a specific number (e.g., -1)\n",
    "arr_replaced_nan_specific = np.nan_to_num(arr_with_nan, nan=-1)\n",
    "print(\"Array with missing values replaced by -1:\", arr_replaced_nan_specific)"
   ]
  },
  {
   "cell_type": "markdown",
   "metadata": {},
   "source": [
    "### 3. Aggregations with Missing Data\n",
    "When performing aggregations like mean, min, or max on data that contains missing values (np.nan), regular functions such as np.mean() will return np.nan. To handle missing data during aggregations, NumPy provides special functions like np.nanmean(), np.nanmin(), and np.nanmax()."
   ]
  },
  {
   "cell_type": "code",
   "execution_count": 6,
   "metadata": {},
   "outputs": [
    {
     "name": "stdout",
     "output_type": "stream",
     "text": [
      "Mean ignoring missing values: 3.25\n"
     ]
    }
   ],
   "source": [
    "# Calculating mean while ignoring missing values\n",
    "mean_without_nan = np.nanmean(arr_with_nan)\n",
    "print(\"Mean ignoring missing values:\", mean_without_nan)"
   ]
  },
  {
   "cell_type": "code",
   "execution_count": 7,
   "metadata": {},
   "outputs": [
    {
     "name": "stdout",
     "output_type": "stream",
     "text": [
      "Minimum value ignoring missing values: 1.0\n"
     ]
    }
   ],
   "source": [
    "# Calculating the minimum value while ignoring missing values\n",
    "min_without_nan = np.nanmin(arr_with_nan)\n",
    "print(\"Minimum value ignoring missing values:\", min_without_nan)"
   ]
  },
  {
   "cell_type": "code",
   "execution_count": 8,
   "metadata": {},
   "outputs": [
    {
     "name": "stdout",
     "output_type": "stream",
     "text": [
      "Maximum value ignoring missing values: 6.0\n"
     ]
    }
   ],
   "source": [
    "# Calculating the maximum value while ignoring missing values\n",
    "max_without_nan = np.nanmax(arr_with_nan)\n",
    "print(\"Maximum value ignoring missing values:\", max_without_nan)"
   ]
  }
 ],
 "metadata": {
  "kernelspec": {
   "display_name": "Python 3",
   "language": "python",
   "name": "python3"
  },
  "language_info": {
   "codemirror_mode": {
    "name": "ipython",
    "version": 3
   },
   "file_extension": ".py",
   "mimetype": "text/x-python",
   "name": "python",
   "nbconvert_exporter": "python",
   "pygments_lexer": "ipython3",
   "version": "3.12.3"
  }
 },
 "nbformat": 4,
 "nbformat_minor": 2
}
