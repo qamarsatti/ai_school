{
 "cells": [
  {
   "cell_type": "markdown",
   "metadata": {},
   "source": [
    "# Array I/O (Input/Output) in NumPy\n",
    "\n",
    "NumPy provides multiple ways to save and load arrays to and from files. This section covers saving to and loading from text files, working with binary files, and handling CSV files.\n",
    "\n",
    "---\n",
    "\n",
    "### 1. Saving and Loading Data"
   ]
  },
  {
   "cell_type": "code",
   "execution_count": 1,
   "metadata": {},
   "outputs": [],
   "source": [
    "import numpy as np"
   ]
  },
  {
   "cell_type": "markdown",
   "metadata": {},
   "source": [
    "## Creating a Folder and Uploading a File in Google Colab\n",
    "\n",
    "In this tutorial, we'll go through the steps to create a folder and upload a file to that folder in Google Colab.\n",
    "\n",
    "### 1. Create a Folder\n",
    "\n",
    "First, we'll create a folder named `data` using Python's `os.makedirs` function.\n",
    "### 2 .Upload your data into colab new created folder"
   ]
  },
  {
   "cell_type": "code",
   "execution_count": 2,
   "metadata": {},
   "outputs": [],
   "source": [
    "# For colab to create a folder named 'files'\n",
    "import os\n",
    "os.makedirs('data', exist_ok=True)"
   ]
  },
  {
   "cell_type": "code",
   "execution_count": 3,
   "metadata": {},
   "outputs": [],
   "source": [
    "# Creating a 2D array\n",
    "arr = np.array([[1.5, 2.7, 3.1], [4.3, 5.9, 6.8]])\n",
    "\n",
    "# Saving the array to a text file\n",
    "np.savetxt(\"data/array_data.txt\", arr, delimiter=',', fmt='%.2f')"
   ]
  },
  {
   "cell_type": "code",
   "execution_count": 4,
   "metadata": {},
   "outputs": [
    {
     "name": "stdout",
     "output_type": "stream",
     "text": [
      "Array loaded from 'data/array_data.txt':\n",
      " [[1.5 2.7 3.1]\n",
      " [4.3 5.9 6.8]]\n"
     ]
    }
   ],
   "source": [
    "# Loading the array from the text file\n",
    "loaded_arr = np.loadtxt(\"data/array_data.txt\", delimiter=',')\n",
    "print(\"Array loaded from 'data/array_data.txt':\\n\", loaded_arr)"
   ]
  },
  {
   "cell_type": "markdown",
   "metadata": {},
   "source": [
    "### 2. Working with Binary Data Files\n",
    "B3inary formats are more efficient for large datasets as they avoid the overhead of converting data to and from text."
   ]
  },
  {
   "cell_type": "code",
   "execution_count": 5,
   "metadata": {},
   "outputs": [
    {
     "name": "stdout",
     "output_type": "stream",
     "text": [
      "Array saved to 'data/array_data.npy'\n"
     ]
    }
   ],
   "source": [
    "# Saving the array to a binary file\n",
    "np.save(\"data/array_data.npy\", arr)\n",
    "print(\"Array saved to 'data/array_data.npy'\")"
   ]
  },
  {
   "cell_type": "code",
   "execution_count": 6,
   "metadata": {},
   "outputs": [
    {
     "name": "stdout",
     "output_type": "stream",
     "text": [
      "Array loaded from 'data/array_data.npy':\n",
      " [[1.5 2.7 3.1]\n",
      " [4.3 5.9 6.8]]\n"
     ]
    }
   ],
   "source": [
    "# Loading the array from the binary file\n",
    "loaded_binary_arr = np.load(\"data/array_data.npy\")\n",
    "print(\"Array loaded from 'data/array_data.npy':\\n\", loaded_binary_arr)"
   ]
  },
  {
   "cell_type": "code",
   "execution_count": 7,
   "metadata": {},
   "outputs": [
    {
     "name": "stdout",
     "output_type": "stream",
     "text": [
      "Multiple arrays saved to 'data/multiple_arrays.npz'\n"
     ]
    }
   ],
   "source": [
    "# Creating two more arrays\n",
    "arr2 = np.array([10, 20, 30, 40])\n",
    "arr3 = np.array([[7, 8], [9, 10]])\n",
    "\n",
    "# Saving multiple arrays to a .npz file\n",
    "np.savez(\"data/multiple_arrays.npz\", array1=arr, array2=arr2, array3=arr3)\n",
    "print(\"Multiple arrays saved to 'data/multiple_arrays.npz'\")"
   ]
  },
  {
   "cell_type": "code",
   "execution_count": 8,
   "metadata": {},
   "outputs": [
    {
     "name": "stdout",
     "output_type": "stream",
     "text": [
      "Loaded array1:\n",
      " [[1.5 2.7 3.1]\n",
      " [4.3 5.9 6.8]]\n",
      "Loaded array2:\n",
      " [10 20 30 40]\n",
      "Loaded array3:\n",
      " [[ 7  8]\n",
      " [ 9 10]]\n"
     ]
    }
   ],
   "source": [
    "# Loading multiple arrays from the .npz file\n",
    "loaded = np.load(\"data/multiple_arrays.npz\")\n",
    "print(\"Loaded array1:\\n\", loaded['array1'])\n",
    "print(\"Loaded array2:\\n\", loaded['array2'])\n",
    "print(\"Loaded array3:\\n\", loaded['array3'])"
   ]
  },
  {
   "cell_type": "markdown",
   "metadata": {},
   "source": [
    "### 3. Working with CSV Files\n",
    "CSV files (Comma Separated Values) are a common format for storing tabular data."
   ]
  },
  {
   "cell_type": "code",
   "execution_count": 9,
   "metadata": {},
   "outputs": [
    {
     "name": "stdout",
     "output_type": "stream",
     "text": [
      "Data loaded from 'data.csv':\n",
      " [[ 5.  20. ]\n",
      " [ 6.  37. ]\n",
      " [ 5.8 25. ]]\n"
     ]
    }
   ],
   "source": [
    "# Loading data from a CSV file\n",
    "csv_data = np.genfromtxt(\"data/data.csv\", delimiter=',', skip_header=1)\n",
    "print(\"Data loaded from 'data.csv':\\n\", csv_data)"
   ]
  },
  {
   "cell_type": "code",
   "execution_count": 10,
   "metadata": {},
   "outputs": [
    {
     "name": "stdout",
     "output_type": "stream",
     "text": [
      "Data loaded into record array from 'data/data.csv':\n",
      "First column: (5., 20)\n"
     ]
    }
   ],
   "source": [
    "# Loading data from a CSV file into a record array\n",
    "record_data = np.recfromcsv(\"data/data.csv\", delimiter=',', encoding='utf-8', case_sensitive=True)\n",
    "print(\"Data loaded into record array from 'data/data.csv':\")\n",
    "print(\"First column:\", record_data[0])"
   ]
  }
 ],
 "metadata": {
  "kernelspec": {
   "display_name": "Python 3",
   "language": "python",
   "name": "python3"
  },
  "language_info": {
   "codemirror_mode": {
    "name": "ipython",
    "version": 3
   },
   "file_extension": ".py",
   "mimetype": "text/x-python",
   "name": "python",
   "nbconvert_exporter": "python",
   "pygments_lexer": "ipython3",
   "version": "3.12.3"
  }
 },
 "nbformat": 4,
 "nbformat_minor": 2
}
