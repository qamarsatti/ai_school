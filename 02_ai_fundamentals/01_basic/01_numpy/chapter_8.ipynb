{
 "cells": [
  {
   "cell_type": "markdown",
   "metadata": {},
   "source": [
    "# Broadcasting and Vectorization in NumPy\n",
    "\n",
    "Broadcasting is one of the most powerful features of NumPy that allows arithmetic operations on arrays of different shapes. In this section, we will understand broadcasting, explore its advantages, and see how it helps avoid loops and improve memory efficiency.\n",
    "\n",
    "---\n",
    "\n",
    "### 1. Understanding Broadcasting in NumPy\n",
    "\n",
    "**Broadcasting** refers to the ability of NumPy to automatically expand the dimensions of smaller arrays so that they are compatible with larger arrays during arithmetic operations. Broadcasting works when one array has fewer dimensions or shapes that can be \"stretched\" to match the other array.\n",
    "\n",
    "\n"
   ]
  },
  {
   "cell_type": "code",
   "execution_count": 1,
   "metadata": {},
   "outputs": [],
   "source": [
    "import numpy as np"
   ]
  },
  {
   "cell_type": "code",
   "execution_count": 2,
   "metadata": {},
   "outputs": [
    {
     "name": "stdout",
     "output_type": "stream",
     "text": [
      "Result of broadcasting scalar to array: [11 12 13]\n"
     ]
    }
   ],
   "source": [
    "# A 1D array\n",
    "arr = np.array([1, 2, 3])\n",
    "\n",
    "# Broadcasting a scalar to an array\n",
    "result = arr + 10\n",
    "print(\"Result of broadcasting scalar to array:\", result)"
   ]
  },
  {
   "cell_type": "code",
   "execution_count": 3,
   "metadata": {},
   "outputs": [
    {
     "name": "stdout",
     "output_type": "stream",
     "text": [
      "Result of broadcasting array to array: [0 0 0]\n"
     ]
    }
   ],
   "source": [
    "arr = np.array([1, 2, 3])\n",
    "result = np.zeros_like(arr)\n",
    "print(\"Result of broadcasting array to array:\", result)"
   ]
  },
  {
   "cell_type": "markdown",
   "metadata": {},
   "source": [
    "### 2. Using np.vectorize() for Vectorization\n",
    "np.vectorize() is used to apply a function element-wise over arrays. It essentially converts a scalar function to a vectorized version that can operate on arrays."
   ]
  },
  {
   "cell_type": "code",
   "execution_count": 4,
   "metadata": {},
   "outputs": [
    {
     "name": "stdout",
     "output_type": "stream",
     "text": [
      "Result using np.vectorize(): [11 14 19 26]\n"
     ]
    }
   ],
   "source": [
    "# Define a function that operates on scalars\n",
    "def my_function(x):\n",
    "    return x ** 2 + 10\n",
    "\n",
    "# Vectorizing the function\n",
    "vectorized_func = np.vectorize(my_function)\n",
    "\n",
    "# Applying the vectorized function to an array\n",
    "arr = np.array([1, 2, 3, 4])\n",
    "result = vectorized_func(arr)\n",
    "print(\"Result using np.vectorize():\", result)\n"
   ]
  },
  {
   "cell_type": "markdown",
   "metadata": {},
   "source": [
    "### 3. Memory Efficiency and Optimization\n",
    "Broadcasting not only simplifies the code but also improves memory efficiency. Instead of creating large intermediate arrays, NumPy uses broadcasting to work with the existing array shapes, saving memory."
   ]
  },
  {
   "cell_type": "code",
   "execution_count": 5,
   "metadata": {},
   "outputs": [
    {
     "name": "stdout",
     "output_type": "stream",
     "text": [
      "Result shape with broadcasting: (1000, 1000)\n"
     ]
    }
   ],
   "source": [
    "# Broadcasting example that avoids large intermediate arrays\n",
    "large_array = np.random.rand(1000, 1000)\n",
    "small_array = np.random.rand(1000)\n",
    "\n",
    "# Broadcasting without creating a large intermediate array\n",
    "result = large_array + small_array\n",
    "print(\"Result shape with broadcasting:\", result.shape)"
   ]
  }
 ],
 "metadata": {
  "kernelspec": {
   "display_name": "Python 3",
   "language": "python",
   "name": "python3"
  },
  "language_info": {
   "codemirror_mode": {
    "name": "ipython",
    "version": 3
   },
   "file_extension": ".py",
   "mimetype": "text/x-python",
   "name": "python",
   "nbconvert_exporter": "python",
   "pygments_lexer": "ipython3",
   "version": "3.12.3"
  }
 },
 "nbformat": 4,
 "nbformat_minor": 2
}
