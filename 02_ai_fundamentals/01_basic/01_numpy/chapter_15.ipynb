{
 "cells": [
  {
   "cell_type": "markdown",
   "metadata": {},
   "source": [
    "# Debugging and Testing in NumPy\n",
    "\n",
    "This notebook explores debugging and testing in NumPy, focusing on common errors, debugging tips, and using testing frameworks like `unittest` and `pytest` for unit testing NumPy code.\n",
    "\n",
    "---\n",
    "\n",
    "### 1. Common Errors and How to Avoid Them\n",
    "\n",
    "Let's go over some common errors encountered in NumPy and how to avoid or fix them.\n",
    "\n",
    "#### 1.1. Shape Mismatch\n",
    "\n",
    "When performing operations on arrays, shape mismatches often occur.\n",
    "\n"
   ]
  },
  {
   "cell_type": "code",
   "execution_count": 1,
   "metadata": {},
   "outputs": [],
   "source": [
    "import numpy as np"
   ]
  },
  {
   "cell_type": "code",
   "execution_count": 2,
   "metadata": {},
   "outputs": [
    {
     "name": "stdout",
     "output_type": "stream",
     "text": [
      "Shape mismatch error: operands could not be broadcast together with shapes (3,) (2,2) \n"
     ]
    }
   ],
   "source": [
    "# Example of a shape mismatch error\n",
    "try:\n",
    "    arr1 = np.array([1, 2, 3])\n",
    "    arr2 = np.array([[1, 2], [3, 4]])\n",
    "    result = arr1 + arr2  # This will raise a ValueError due to shape mismatch\n",
    "except ValueError as e:\n",
    "    print(f\"Shape mismatch error: {e}\")"
   ]
  },
  {
   "cell_type": "code",
   "execution_count": 3,
   "metadata": {},
   "outputs": [
    {
     "name": "stdout",
     "output_type": "stream",
     "text": [
      "Result after fixing the shape mismatch: [[2 4 6]\n",
      " [5 7 9]]\n"
     ]
    }
   ],
   "source": [
    "# Correcting the shape by reshaping one of the arrays\n",
    "arr1 = np.array([1, 2, 3])\n",
    "arr2 = np.array([[1, 2, 3], [4, 5, 6]])\n",
    "result = arr1 + arr2\n",
    "print(\"Result after fixing the shape mismatch:\", result)"
   ]
  },
  {
   "cell_type": "code",
   "execution_count": 4,
   "metadata": {},
   "outputs": [
    {
     "name": "stdout",
     "output_type": "stream",
     "text": [
      "Result with type casting: [1.1        2.2        3.30000001]\n",
      "Result dtype: float64\n"
     ]
    }
   ],
   "source": [
    "# Example of a data type mismatch\n",
    "arr1 = np.array([1, 2, 3], dtype=np.int32)\n",
    "arr2 = np.array([0.1, 0.2, 0.3], dtype=np.float32)\n",
    "\n",
    "# This will work, but implicit type casting may cause precision loss\n",
    "result = arr1 + arr2\n",
    "print(\"Result with type casting:\", result)\n",
    "print(f\"Result dtype: {result.dtype}\")"
   ]
  },
  {
   "cell_type": "code",
   "execution_count": 5,
   "metadata": {},
   "outputs": [
    {
     "name": "stdout",
     "output_type": "stream",
     "text": [
      "Result with explicit type casting: [1.1 2.2 3.3]\n"
     ]
    }
   ],
   "source": [
    "# Fix by ensuring compatible data types\n",
    "arr1 = arr1.astype(np.float32)\n",
    "result = arr1 + arr2\n",
    "print(\"Result with explicit type casting:\", result)"
   ]
  },
  {
   "cell_type": "markdown",
   "metadata": {},
   "source": [
    "### 2. Debugging Tips for NumPy\n",
    "Debugging in NumPy can be streamlined by understanding the following tips:"
   ]
  },
  {
   "cell_type": "code",
   "execution_count": 6,
   "metadata": {},
   "outputs": [
    {
     "name": "stdout",
     "output_type": "stream",
     "text": [
      "Result of division: [inf  1.  0.]\n"
     ]
    },
    {
     "name": "stderr",
     "output_type": "stream",
     "text": [
      "C:\\Users\\SP23-RAI-014.CUI\\AppData\\Local\\Temp\\ipykernel_13212\\4098132322.py:6: RuntimeWarning: divide by zero encountered in divide\n",
      "  result = arr1 / arr2\n"
     ]
    }
   ],
   "source": [
    "# Example of handling divide-by-zero errors\n",
    "np.seterr(divide='warn')  # Options are 'ignore', 'warn', 'raise', 'call', or 'print'\n",
    "\n",
    "arr1 = np.array([1.0, 2.0, 0.0])\n",
    "arr2 = np.array([0.0, 2.0, 1.0])\n",
    "result = arr1 / arr2\n",
    "print(\"Result of division:\", result)"
   ]
  },
  {
   "cell_type": "code",
   "execution_count": 7,
   "metadata": {},
   "outputs": [
    {
     "name": "stdout",
     "output_type": "stream",
     "text": [
      "The array contains NaN values.\n"
     ]
    }
   ],
   "source": [
    "# Example of handling NaN values\n",
    "arr = np.array([1.0, np.nan, 3.0])\n",
    "\n",
    "if np.isnan(arr).any():\n",
    "    print(\"The array contains NaN values.\")\n",
    "else:\n",
    "    print(\"The array does not contain NaN values.\")"
   ]
  },
  {
   "cell_type": "code",
   "execution_count": 8,
   "metadata": {},
   "outputs": [
    {
     "name": "stdout",
     "output_type": "stream",
     "text": [
      "Shape: (2, 2)\n",
      "Data type: int32\n",
      "Size: 4\n"
     ]
    }
   ],
   "source": [
    "arr = np.array([[1, 2], [3, 4]])\n",
    "\n",
    "# Checking the shape, data type, and size of the array\n",
    "print(f\"Shape: {arr.shape}\")\n",
    "print(f\"Data type: {arr.dtype}\")\n",
    "print(f\"Size: {arr.size}\")"
   ]
  },
  {
   "cell_type": "markdown",
   "metadata": {},
   "source": [
    "### 3. Unit Testing NumPy Code with unittest and pytest\n",
    "Testing NumPy code is essential to ensure correctness. Here, we'll explore unit testing with unittest and pytest."
   ]
  },
  {
   "cell_type": "code",
   "execution_count": 9,
   "metadata": {},
   "outputs": [
    {
     "name": "stderr",
     "output_type": "stream",
     "text": [
      "..\n",
      "----------------------------------------------------------------------\n",
      "Ran 2 tests in 0.032s\n",
      "\n",
      "OK\n"
     ]
    }
   ],
   "source": [
    "import unittest\n",
    "import numpy as np\n",
    "\n",
    "class TestNumPyOperations(unittest.TestCase):\n",
    "    \n",
    "    def test_addition(self):\n",
    "        arr1 = np.array([1, 2, 3])\n",
    "        arr2 = np.array([4, 5, 6])\n",
    "        result = arr1 + arr2\n",
    "        expected = np.array([5, 7, 9])\n",
    "        np.testing.assert_array_equal(result, expected)\n",
    "    \n",
    "    def test_shape_mismatch(self):\n",
    "        arr1 = np.array([1, 2, 3])\n",
    "        arr2 = np.array([[1, 2], [3, 4]])\n",
    "        with self.assertRaises(ValueError):\n",
    "            result = arr1 + arr2\n",
    "\n",
    "if __name__ == '__main__':\n",
    "    unittest.main(argv=[''], exit=False)"
   ]
  },
  {
   "cell_type": "code",
   "execution_count": 17,
   "metadata": {},
   "outputs": [],
   "source": [
    "import pytest\n",
    "import numpy as np\n",
    "\n",
    "def test_addition():\n",
    "    arr1 = np.array([1, 2, 3])\n",
    "    arr2 = np.array([4, 5, 6])\n",
    "    result = arr1 + arr2\n",
    "    expected = np.array([5, 7, 9])\n",
    "    np.testing.assert_array_equal(result, expected)\n",
    "\n",
    "def test_shape_mismatch():\n",
    "    arr1 = np.array([1, 2, 3])\n",
    "    arr2 = np.array([[1, 2], [3, 4]])\n",
    "    with pytest.raises(ValueError):\n",
    "        result = arr1 + arr2\n"
   ]
  }
 ],
 "metadata": {
  "kernelspec": {
   "display_name": "Python 3",
   "language": "python",
   "name": "python3"
  },
  "language_info": {
   "codemirror_mode": {
    "name": "ipython",
    "version": 3
   },
   "file_extension": ".py",
   "mimetype": "text/x-python",
   "name": "python",
   "nbconvert_exporter": "python",
   "pygments_lexer": "ipython3",
   "version": "3.12.3"
  }
 },
 "nbformat": 4,
 "nbformat_minor": 2
}
