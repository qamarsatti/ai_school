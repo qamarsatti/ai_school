{
 "cells": [
  {
   "cell_type": "markdown",
   "metadata": {},
   "source": [
    "# Performance Optimization in NumPy\n",
    "\n",
    "Optimizing performance in NumPy is essential when working with large datasets or computationally intensive operations. This section covers techniques for efficient array processing, memory optimization, profiling, and accelerating NumPy code with Numba.\n",
    "\n",
    "---\n",
    "\n",
    "### 1. Efficient Array Processing Techniques"
   ]
  },
  {
   "cell_type": "code",
   "execution_count": 1,
   "metadata": {},
   "outputs": [],
   "source": [
    "import numpy as np"
   ]
  },
  {
   "cell_type": "code",
   "execution_count": 2,
   "metadata": {},
   "outputs": [
    {
     "name": "stdout",
     "output_type": "stream",
     "text": [
      "In-place addition result: [11 12 13 14]\n"
     ]
    }
   ],
   "source": [
    "# Creating a large array\n",
    "arr = np.array([1, 2, 3, 4])\n",
    "\n",
    "# In-place addition to modify the original array\n",
    "arr += 10\n",
    "print(\"In-place addition result:\", arr)"
   ]
  },
  {
   "cell_type": "code",
   "execution_count": 3,
   "metadata": {},
   "outputs": [
    {
     "name": "stdout",
     "output_type": "stream",
     "text": [
      "Memory usage of float64 array: 8000000\n",
      "Memory usage of float32 array: 4000000\n"
     ]
    }
   ],
   "source": [
    "# Creating an array with default dtype (float64)\n",
    "large_float_arr = np.ones((1000, 1000))\n",
    "\n",
    "# Checking memory usage of default dtype\n",
    "print(\"Memory usage of float64 array:\", large_float_arr.nbytes)\n",
    "\n",
    "# Creating an array with dtype float32 to reduce memory usage\n",
    "large_float32_arr = np.ones((1000, 1000), dtype=np.float32)\n",
    "print(\"Memory usage of float32 array:\", large_float32_arr.nbytes)"
   ]
  },
  {
   "cell_type": "markdown",
   "metadata": {},
   "source": [
    "### 2. Using NumPy's Built-in Functions for Optimization\n",
    "NumPy's built-in functions are optimized in C, making them significantly faster than writing Python loops. Whenever possible, avoid explicit loops in Python and rely on vectorized operations."
   ]
  },
  {
   "cell_type": "code",
   "execution_count": 4,
   "metadata": {},
   "outputs": [
    {
     "name": "stdout",
     "output_type": "stream",
     "text": [
      "Sum using NumPy's built-in function: 499999500000.0\n"
     ]
    }
   ],
   "source": [
    "# Summing elements using a loop\n",
    "arr = np.arange(1e6)\n",
    "\n",
    "# Slow method: Python loop\n",
    "total = 0\n",
    "for i in arr:\n",
    "    total += i\n",
    "\n",
    "# Fast method: Using NumPy's built-in sum function\n",
    "total_fast = np.sum(arr)\n",
    "print(\"Sum using NumPy's built-in function:\", total_fast)"
   ]
  },
  {
   "cell_type": "markdown",
   "metadata": {},
   "source": [
    "### 3. Profiling and Tuning with np.profiler\n",
    "Profiling NumPy Code with timeit\n",
    "You can use the timeit module to profile the execution time of NumPy operations."
   ]
  },
  {
   "cell_type": "code",
   "execution_count": 5,
   "metadata": {},
   "outputs": [
    {
     "name": "stdout",
     "output_type": "stream",
     "text": [
      "Python loop time: 6.665754 seconds\n",
      "NumPy sum time: 0.040848 seconds\n"
     ]
    }
   ],
   "source": [
    "import timeit\n",
    "\n",
    "# Time a slow Python loop for summing\n",
    "loop_time = timeit.timeit('total = sum(arr)', setup='import numpy as np; arr = np.arange(1e6)', number=100)\n",
    "\n",
    "# Time the NumPy optimized sum function\n",
    "numpy_time = timeit.timeit('np.sum(arr)', setup='import numpy as np; arr = np.arange(1e6)', number=100)\n",
    "\n",
    "print(f\"Python loop time: {loop_time:.6f} seconds\")\n",
    "print(f\"NumPy sum time: {numpy_time:.6f} seconds\")"
   ]
  },
  {
   "cell_type": "markdown",
   "metadata": {},
   "source": [
    "### 4. Compiling NumPy Code with Numba\n",
    "Numba is a just-in-time (JIT) compiler that can significantly accelerate NumPy code by compiling it to machine code. Numba works well for loops and computations involving NumPy arrays, providing performance close to C or Fortran."
   ]
  },
  {
   "cell_type": "code",
   "execution_count": 6,
   "metadata": {},
   "outputs": [],
   "source": [
    "from numba import jit\n",
    "import numpy as np"
   ]
  },
  {
   "cell_type": "code",
   "execution_count": 7,
   "metadata": {},
   "outputs": [
    {
     "name": "stdout",
     "output_type": "stream",
     "text": [
      "Result after Numba acceleration: [ 0.  1.  4.  9. 16.]\n"
     ]
    }
   ],
   "source": [
    "\n",
    "# Creating a function to perform element-wise multiplication\n",
    "@jit(nopython=True)  # The nopython mode gives the best performance\n",
    "def multiply_arrays(a, b):\n",
    "    result = np.empty_like(a)\n",
    "    for i in range(len(a)):\n",
    "        result[i] = a[i] * b[i]\n",
    "    return result\n",
    "\n",
    "# Arrays to multiply\n",
    "arr1 = np.arange(1e6)\n",
    "arr2 = np.arange(1e6)\n",
    "\n",
    "# Without Numba (regular Python)\n",
    "result = multiply_arrays(arr1, arr2)\n",
    "\n",
    "# Using Numba for JIT compilation\n",
    "result_numba = multiply_arrays(arr1, arr2)\n",
    "print(\"Result after Numba acceleration:\", result_numba[:5])\n"
   ]
  },
  {
   "cell_type": "markdown",
   "metadata": {},
   "source": [
    "##### Code to Compare Normal NumPy vs Numba Performance:"
   ]
  },
  {
   "cell_type": "code",
   "execution_count": 8,
   "metadata": {},
   "outputs": [
    {
     "name": "stdout",
     "output_type": "stream",
     "text": [
      "Time taken by NumPy: 0.575021 seconds\n",
      "Time taken by Numba: 0.393062 seconds\n",
      "Results match: True\n"
     ]
    }
   ],
   "source": [
    "import timeit\n",
    "\n",
    "# Custom function with a loop and more logic\n",
    "@jit(nopython=True)\n",
    "def custom_numba_function(arr):\n",
    "    result = np.zeros_like(arr)\n",
    "    for i in range(len(arr)):\n",
    "        if arr[i] % 2 == 0:\n",
    "            result[i] = arr[i] ** 2\n",
    "        else:\n",
    "            result[i] = arr[i] ** 3\n",
    "    return result\n",
    "\n",
    "# Normal NumPy approach (using vectorized operations where possible)\n",
    "def custom_numpy_function(arr):\n",
    "    result = np.zeros_like(arr)\n",
    "    even_mask = arr % 2 == 0\n",
    "    result[even_mask] = arr[even_mask] ** 2\n",
    "    result[~even_mask] = arr[~even_mask] ** 3\n",
    "    return result\n",
    "\n",
    "# Test data\n",
    "arr = np.arange(1e6)\n",
    "\n",
    "# Timing NumPy version\n",
    "numpy_time = timeit.timeit('custom_numpy_function(arr)', globals=globals(), number=10)\n",
    "print(f\"Time taken by NumPy: {numpy_time:.6f} seconds\")\n",
    "\n",
    "# Timing Numba-accelerated version\n",
    "numba_time = timeit.timeit('custom_numba_function(arr)', globals=globals(), number=10)\n",
    "print(f\"Time taken by Numba: {numba_time:.6f} seconds\")\n",
    "\n",
    "# Ensure results are the same\n",
    "result_numpy = custom_numpy_function(arr)\n",
    "result_numba = custom_numba_function(arr)\n",
    "print(\"Results match:\", np.allclose(result_numpy, result_numba))\n"
   ]
  }
 ],
 "metadata": {
  "kernelspec": {
   "display_name": "Python 3",
   "language": "python",
   "name": "python3"
  },
  "language_info": {
   "codemirror_mode": {
    "name": "ipython",
    "version": 3
   },
   "file_extension": ".py",
   "mimetype": "text/x-python",
   "name": "python",
   "nbconvert_exporter": "python",
   "pygments_lexer": "ipython3",
   "version": "3.12.3"
  }
 },
 "nbformat": 4,
 "nbformat_minor": 2
}
