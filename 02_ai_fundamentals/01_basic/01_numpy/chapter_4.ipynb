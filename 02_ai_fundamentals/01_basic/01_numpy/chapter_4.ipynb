{
 "cells": [
  {
   "cell_type": "markdown",
   "metadata": {},
   "source": [
    "# Array Operations in NumPy\n",
    "\n",
    "This section covers various operations that can be performed on NumPy arrays. We will look at element-wise arithmetic, broadcasting, universal functions, comparison operators, aggregation functions, and matrix operations like the dot product.\n",
    "\n",
    "---\n",
    "\n",
    "### 1. Arithmetic Operations on Arrays\n",
    "\n",
    "NumPy supports element-wise arithmetic operations such as addition, subtraction, multiplication, and division. When performing these operations, the shape of the arrays must match or broadcasting rules must apply."
   ]
  },
  {
   "cell_type": "code",
   "execution_count": 1,
   "metadata": {},
   "outputs": [],
   "source": [
    "import numpy as np"
   ]
  },
  {
   "cell_type": "code",
   "execution_count": 2,
   "metadata": {},
   "outputs": [
    {
     "name": "stdout",
     "output_type": "stream",
     "text": [
      "Addition result: [ 6  8 10 12]\n",
      "Subtraction result: [-4 -4 -4 -4]\n",
      "Multiplication result: [ 5 12 21 32]\n",
      "Division result: [0.2        0.33333333 0.42857143 0.5       ]\n"
     ]
    }
   ],
   "source": [
    "\n",
    "\n",
    "# Creating two arrays\n",
    "arr1 = np.array([1, 2, 3, 4])\n",
    "arr2 = np.array([5, 6, 7, 8])\n",
    "\n",
    "# Element-wise addition\n",
    "add_result = arr1 + arr2\n",
    "print(\"Addition result:\", add_result)\n",
    "\n",
    "# Element-wise subtraction\n",
    "sub_result = arr1 - arr2\n",
    "print(\"Subtraction result:\", sub_result)\n",
    "\n",
    "# Element-wise multiplication\n",
    "mul_result = arr1 * arr2\n",
    "print(\"Multiplication result:\", mul_result)\n",
    "\n",
    "# Element-wise division\n",
    "div_result = arr1 / arr2\n",
    "print(\"Division result:\", div_result)\n"
   ]
  },
  {
   "cell_type": "code",
   "execution_count": 3,
   "metadata": {},
   "outputs": [
    {
     "name": "stdout",
     "output_type": "stream",
     "text": [
      "Broadcasting result: [11 12 13 14]\n"
     ]
    }
   ],
   "source": [
    "# Broadcasting example: adding a scalar to an array\n",
    "arr = np.array([1, 2, 3, 4])\n",
    "scalar = 10\n",
    "\n",
    "broadcast_result = arr + scalar\n",
    "print(\"Broadcasting result:\", broadcast_result)"
   ]
  },
  {
   "cell_type": "code",
   "execution_count": 4,
   "metadata": {},
   "outputs": [
    {
     "name": "stdout",
     "output_type": "stream",
     "text": [
      "Addition with ufunc: [ 6  8 10 12]\n",
      "Subtraction with ufunc: [-4 -4 -4 -4]\n",
      "Multiplication with ufunc: [ 5 12 21 32]\n",
      "Division with ufunc: [0.2        0.33333333 0.42857143 0.5       ]\n"
     ]
    }
   ],
   "source": [
    "# Using universal functions for element-wise operations\n",
    "add_ufunc = np.add(arr1, arr2)\n",
    "sub_ufunc = np.subtract(arr1, arr2)\n",
    "mul_ufunc = np.multiply(arr1, arr2)\n",
    "div_ufunc = np.divide(arr1, arr2)\n",
    "\n",
    "print(\"Addition with ufunc:\", add_ufunc)\n",
    "print(\"Subtraction with ufunc:\", sub_ufunc)\n",
    "print(\"Multiplication with ufunc:\", mul_ufunc)\n",
    "print(\"Division with ufunc:\", div_ufunc)"
   ]
  },
  {
   "cell_type": "markdown",
   "metadata": {},
   "source": [
    "### 2. Comparison Operators\n",
    "NumPy arrays support comparison operators like >, <, ==, !=. These operations return boolean arrays that show the result of the comparison for each element."
   ]
  },
  {
   "cell_type": "code",
   "execution_count": 5,
   "metadata": {},
   "outputs": [
    {
     "name": "stdout",
     "output_type": "stream",
     "text": [
      "arr1 > arr2: [False False False False]\n",
      "arr1 == arr2: [False False False False]\n",
      "arr1 != arr2: [ True  True  True  True]\n"
     ]
    }
   ],
   "source": [
    "# Comparison between arrays\n",
    "greater_than = arr1 > arr2\n",
    "print(\"arr1 > arr2:\", greater_than)\n",
    "\n",
    "# Equality check\n",
    "equal_check = arr1 == arr2\n",
    "print(\"arr1 == arr2:\", equal_check)\n",
    "\n",
    "# Not Equality check\n",
    "equal_check = arr1 != arr2\n",
    "print(\"arr1 != arr2:\", equal_check)"
   ]
  },
  {
   "cell_type": "markdown",
   "metadata": {},
   "source": [
    "### 3. Aggregation Functions\n",
    "NumPy provides functions to perform aggregations on arrays, such as sum, mean, min, max, standard deviation, and more."
   ]
  },
  {
   "cell_type": "code",
   "execution_count": 6,
   "metadata": {},
   "outputs": [
    {
     "name": "stdout",
     "output_type": "stream",
     "text": [
      "Sum: 15\n",
      "Mean: 3.0\n",
      "Min: 1\n",
      "Max: 5\n",
      "Standard Deviation: 1.4142135623730951\n"
     ]
    }
   ],
   "source": [
    "# Creating a sample array\n",
    "arr = np.array([1, 2, 3, 4, 5])\n",
    "\n",
    "# Sum of all elements\n",
    "sum_result = np.sum(arr)\n",
    "print(\"Sum:\", sum_result)\n",
    "\n",
    "# Mean (average) of all elements\n",
    "mean_result = np.mean(arr)\n",
    "print(\"Mean:\", mean_result)\n",
    "\n",
    "# Minimum and maximum value\n",
    "min_result = np.min(arr)\n",
    "max_result = np.max(arr)\n",
    "print(\"Min:\", min_result)\n",
    "print(\"Max:\", max_result)\n",
    "\n",
    "# Standard deviation\n",
    "std_result = np.std(arr)\n",
    "print(\"Standard Deviation:\", std_result)"
   ]
  },
  {
   "cell_type": "markdown",
   "metadata": {},
   "source": [
    "### 4. Dot Product and Matrix Multiplication\n",
    "NumPy provides several ways to compute the dot product or perform matrix multiplication on arrays.\n",
    "\n"
   ]
  },
  {
   "cell_type": "code",
   "execution_count": 7,
   "metadata": {},
   "outputs": [
    {
     "name": "stdout",
     "output_type": "stream",
     "text": [
      "Dot product (1D arrays): 32\n"
     ]
    }
   ],
   "source": [
    "# Creating two arrays for dot product\n",
    "arr1 = np.array([1, 2, 3])\n",
    "arr2 = np.array([4, 5, 6])\n",
    "\n",
    "# Dot product of two 1D arrays\n",
    "dot_product = np.dot(arr1, arr2)\n",
    "print(\"Dot product (1D arrays):\", dot_product)"
   ]
  },
  {
   "cell_type": "code",
   "execution_count": 8,
   "metadata": {},
   "outputs": [
    {
     "name": "stdout",
     "output_type": "stream",
     "text": [
      "Matrix multiplication using @ operator:\n",
      " [[19 22]\n",
      " [43 50]]\n",
      "Matrix multiplication using np.matmul():\n",
      " [[19 22]\n",
      " [43 50]]\n"
     ]
    }
   ],
   "source": [
    "# Creating two 2D arrays (matrices)\n",
    "matrix1 = np.array([[1, 2],\n",
    "                    [3, 4]])\n",
    "matrix2 = np.array([[5, 6],\n",
    "                    [7, 8]])\n",
    "\n",
    "# Matrix multiplication using @ operator\n",
    "matrix_mul_1 = matrix1 @ matrix2\n",
    "print(\"Matrix multiplication using @ operator:\\n\", matrix_mul_1)\n",
    "\n",
    "# Matrix multiplication using np.matmul()\n",
    "matrix_mul_2 = np.matmul(matrix1, matrix2)\n",
    "print(\"Matrix multiplication using np.matmul():\\n\", matrix_mul_2)\n"
   ]
  },
  {
   "cell_type": "markdown",
   "metadata": {},
   "source": [
    "### Difference in dot product and element-wise multiplication"
   ]
  },
  {
   "cell_type": "code",
   "execution_count": 9,
   "metadata": {},
   "outputs": [
    {
     "name": "stdout",
     "output_type": "stream",
     "text": [
      "Element-wise Multiplication:\n",
      " [[ 5 12]\n",
      " [21 32]]\n",
      "\n",
      "Dot Product (Matrix Multiplication):\n",
      " [[19 22]\n",
      " [43 50]]\n"
     ]
    }
   ],
   "source": [
    "import numpy as np\n",
    "\n",
    "# Creating two 2D arrays (matrices)\n",
    "matrix1 = np.array([[1, 2], \n",
    "                    [3, 4]])\n",
    "matrix2 = np.array([[5, 6], \n",
    "                    [7, 8]])\n",
    "\n",
    "# Element-wise multiplication\n",
    "elementwise_mul = matrix1 * matrix2\n",
    "print(\"Element-wise Multiplication:\\n\", elementwise_mul)\n",
    "\n",
    "# Dot product (matrix multiplication)\n",
    "dot_product = np.dot(matrix1, matrix2)\n",
    "print(\"\\nDot Product (Matrix Multiplication):\\n\", dot_product)\n"
   ]
  }
 ],
 "metadata": {
  "kernelspec": {
   "display_name": "Python 3",
   "language": "python",
   "name": "python3"
  },
  "language_info": {
   "codemirror_mode": {
    "name": "ipython",
    "version": 3
   },
   "file_extension": ".py",
   "mimetype": "text/x-python",
   "name": "python",
   "nbconvert_exporter": "python",
   "pygments_lexer": "ipython3",
   "version": "3.12.3"
  }
 },
 "nbformat": 4,
 "nbformat_minor": 2
}
