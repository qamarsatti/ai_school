{
 "cells": [
  {
   "cell_type": "markdown",
   "metadata": {},
   "source": [
    "# Advanced Array Manipulation in NumPy\n",
    "\n",
    "In this section, we will cover advanced array manipulation techniques in NumPy. Topics include stacking, splitting, tiling, repeating, and sorting arrays.\n",
    "\n",
    "---\n",
    "\n",
    "### 1. Stacking Arrays\n",
    "\n",
    "Stacking refers to joining multiple arrays along a new axis. NumPy provides several functions for this, including `np.vstack()`, `np.hstack()`, and `np.dstack()`.\n",
    "\n"
   ]
  },
  {
   "cell_type": "code",
   "execution_count": 1,
   "metadata": {},
   "outputs": [],
   "source": [
    "import numpy as np"
   ]
  },
  {
   "cell_type": "code",
   "execution_count": 2,
   "metadata": {},
   "outputs": [
    {
     "name": "stdout",
     "output_type": "stream",
     "text": [
      "Vertically Stacked Arrays:\n",
      " [[1 2]\n",
      " [3 4]\n",
      " [5 6]\n",
      " [7 8]]\n"
     ]
    }
   ],
   "source": [
    "# Creating two arrays to stack\n",
    "arr1 = np.array([[1, 2], [3, 4]])\n",
    "arr2 = np.array([[5, 6], [7, 8]])\n",
    "\n",
    "# Vertical stacking\n",
    "vstack_result = np.vstack((arr1, arr2))\n",
    "print(\"Vertically Stacked Arrays:\\n\", vstack_result)"
   ]
  },
  {
   "cell_type": "code",
   "execution_count": 3,
   "metadata": {},
   "outputs": [
    {
     "name": "stdout",
     "output_type": "stream",
     "text": [
      "Horizontally Stacked Arrays:\n",
      " [[1 2 5 6]\n",
      " [3 4 7 8]]\n"
     ]
    }
   ],
   "source": [
    "# Horizontal stacking\n",
    "hstack_result = np.hstack((arr1, arr2))\n",
    "print(\"Horizontally Stacked Arrays:\\n\", hstack_result)"
   ]
  },
  {
   "cell_type": "code",
   "execution_count": 4,
   "metadata": {},
   "outputs": [
    {
     "name": "stdout",
     "output_type": "stream",
     "text": [
      "Depth Stacked Arrays:\n",
      " [[[1 5]\n",
      "  [2 6]]\n",
      "\n",
      " [[3 7]\n",
      "  [4 8]]]\n"
     ]
    }
   ],
   "source": [
    "# Depth stacking\n",
    "dstack_result = np.dstack((arr1, arr2))\n",
    "print(\"Depth Stacked Arrays:\\n\", dstack_result)"
   ]
  },
  {
   "cell_type": "markdown",
   "metadata": {},
   "source": [
    "### 2. Splitting Arrays\n",
    "Splitting arrays allows you to divide an array into multiple sub-arrays. NumPy provides np.split(), np.hsplit(), and np.vsplit() to perform splitting along different axes."
   ]
  },
  {
   "cell_type": "code",
   "execution_count": 5,
   "metadata": {},
   "outputs": [
    {
     "name": "stdout",
     "output_type": "stream",
     "text": [
      "Split Result:\n",
      " [array([[1, 2]]), array([[3, 4]])]\n"
     ]
    }
   ],
   "source": [
    "# Splitting an array into 2 sub-arrays along axis 0\n",
    "split_result = np.split(arr1, 2, axis=0)\n",
    "print(\"Split Result:\\n\", split_result)"
   ]
  },
  {
   "cell_type": "code",
   "execution_count": 6,
   "metadata": {},
   "outputs": [
    {
     "name": "stdout",
     "output_type": "stream",
     "text": [
      "Horizontally Split Arrays:\n",
      " [array([[1],\n",
      "       [3]]), array([[2],\n",
      "       [4]])]\n"
     ]
    }
   ],
   "source": [
    "# Horizontal splitting\n",
    "hsplit_result = np.hsplit(arr1, 2)\n",
    "print(\"Horizontally Split Arrays:\\n\", hsplit_result)"
   ]
  },
  {
   "cell_type": "code",
   "execution_count": 7,
   "metadata": {},
   "outputs": [
    {
     "name": "stdout",
     "output_type": "stream",
     "text": [
      "Vertically Split Arrays:\n",
      " [array([[1, 2]]), array([[3, 4]])]\n"
     ]
    }
   ],
   "source": [
    "# Vertical splitting\n",
    "vsplit_result = np.vsplit(arr1, 2)\n",
    "print(\"Vertically Split Arrays:\\n\", vsplit_result)"
   ]
  },
  {
   "cell_type": "markdown",
   "metadata": {},
   "source": [
    "### 3. Tiling and Repeating Arrays\n",
    "Tiling and repeating arrays allows us to create larger arrays by repeating the original array multiple times. NumPy provides np.tile() and np.repeat() for this purpose."
   ]
  },
  {
   "cell_type": "code",
   "execution_count": 8,
   "metadata": {},
   "outputs": [
    {
     "name": "stdout",
     "output_type": "stream",
     "text": [
      "Tiled Array:\n",
      " [[1 2 1 2]\n",
      " [3 4 3 4]\n",
      " [1 2 1 2]\n",
      " [3 4 3 4]]\n"
     ]
    }
   ],
   "source": [
    "# Tiling the array\n",
    "tiled_array = np.tile(arr1, (2, 2))\n",
    "print(\"Tiled Array:\\n\", tiled_array)"
   ]
  },
  {
   "cell_type": "code",
   "execution_count": 9,
   "metadata": {},
   "outputs": [
    {
     "name": "stdout",
     "output_type": "stream",
     "text": [
      "Repeated Array:\n",
      " [[1 1 2 2]\n",
      " [3 3 4 4]]\n"
     ]
    }
   ],
   "source": [
    "# Repeating elements of the array\n",
    "repeated_array = np.repeat(arr1, 2, axis=1)\n",
    "print(\"Repeated Array:\\n\", repeated_array)"
   ]
  },
  {
   "cell_type": "markdown",
   "metadata": {},
   "source": [
    "### 4. Sorting Arrays\n",
    "NumPy provides various sorting functions, such as np.sort(), np.argsort(), and np.lexsort() to sort arrays."
   ]
  },
  {
   "cell_type": "code",
   "execution_count": 10,
   "metadata": {},
   "outputs": [
    {
     "name": "stdout",
     "output_type": "stream",
     "text": [
      "Sorted Array: [1 1 3 4 5 9]\n"
     ]
    }
   ],
   "source": [
    "# Creating an unsorted array\n",
    "unsorted_array = np.array([3, 1, 4, 1, 5, 9])\n",
    "\n",
    "# Sorting the array\n",
    "sorted_array = np.sort(unsorted_array)\n",
    "print(\"Sorted Array:\", sorted_array)"
   ]
  },
  {
   "cell_type": "code",
   "execution_count": 11,
   "metadata": {},
   "outputs": [
    {
     "name": "stdout",
     "output_type": "stream",
     "text": [
      "Indices that would sort the array: [1 3 0 2 4 5]\n"
     ]
    }
   ],
   "source": [
    "# Getting the sorted indices\n",
    "sorted_indices = np.argsort(unsorted_array)\n",
    "print(\"Indices that would sort the array:\", sorted_indices)"
   ]
  },
  {
   "cell_type": "code",
   "execution_count": 12,
   "metadata": {},
   "outputs": [
    {
     "name": "stdout",
     "output_type": "stream",
     "text": [
      "Sorted Indices: [1 3 2 0]\n",
      "Sorted Names: ['Alice' 'Alice' 'Bob' 'Charlie']\n",
      "Sorted Scores: [ 85 100  90  95]\n"
     ]
    }
   ],
   "source": [
    "import numpy as np\n",
    "\n",
    "# Two arrays for sorting: names and scores\n",
    "names = np.array(['Charlie', 'Alice', 'Bob', 'Alice'])\n",
    "scores = np.array([95, 85, 90, 100])\n",
    "\n",
    "# Lexicographical sorting based on names and then scores\n",
    "# Lexsort will sort by the last key (scores) first, and if scores are equal, it will sort by names.\n",
    "sorted_indices = np.lexsort((scores, names))\n",
    "\n",
    "# Using the sorted indices to sort both arrays\n",
    "sorted_names = names[sorted_indices]\n",
    "sorted_scores = scores[sorted_indices]\n",
    "\n",
    "print(\"Sorted Indices:\", sorted_indices)\n",
    "print(\"Sorted Names:\", sorted_names)\n",
    "print(\"Sorted Scores:\", sorted_scores)\n"
   ]
  }
 ],
 "metadata": {
  "kernelspec": {
   "display_name": "Python 3",
   "language": "python",
   "name": "python3"
  },
  "language_info": {
   "codemirror_mode": {
    "name": "ipython",
    "version": 3
   },
   "file_extension": ".py",
   "mimetype": "text/x-python",
   "name": "python",
   "nbconvert_exporter": "python",
   "pygments_lexer": "ipython3",
   "version": "3.12.3"
  }
 },
 "nbformat": 4,
 "nbformat_minor": 2
}
