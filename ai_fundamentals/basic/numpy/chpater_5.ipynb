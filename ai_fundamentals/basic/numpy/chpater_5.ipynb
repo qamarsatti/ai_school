{
 "cells": [
  {
   "cell_type": "markdown",
   "metadata": {},
   "source": [
    "# Reshaping and Manipulating Arrays\n",
    "\n",
    "In this section, we will explore how to reshape arrays, transpose them, and concatenate or split them using NumPy functions.\n",
    "\n",
    "---\n",
    "\n",
    "### 1. Reshaping Arrays\n",
    "\n",
    "Reshaping allows us to change the structure of a NumPy array without changing its data. Common reshaping functions include `np.reshape()`, `np.ravel()`, and `np.flatten()`.\n"
   ]
  },
  {
   "cell_type": "code",
   "execution_count": 1,
   "metadata": {},
   "outputs": [],
   "source": [
    "import numpy as np"
   ]
  },
  {
   "cell_type": "code",
   "execution_count": 2,
   "metadata": {},
   "outputs": [
    {
     "name": "stdout",
     "output_type": "stream",
     "text": [
      "Reshaped Array (2x3):\n",
      " [[1 2 3]\n",
      " [4 5 6]]\n"
     ]
    }
   ],
   "source": [
    "# Creating a 1D array\n",
    "arr = np.array([1, 2, 3, 4, 5, 6])\n",
    "\n",
    "# Reshaping to a 2x3 array\n",
    "reshaped_arr = np.reshape(arr, (2, 3))\n",
    "print(\"Reshaped Array (2x3):\\n\", reshaped_arr)"
   ]
  },
  {
   "cell_type": "code",
   "execution_count": 3,
   "metadata": {},
   "outputs": [
    {
     "name": "stdout",
     "output_type": "stream",
     "text": [
      "Flattened Array (copy): [1 2 3 4 5 6]\n",
      "Raveled Array (view): [1 2 3 4 5 6]\n"
     ]
    }
   ],
   "source": [
    "# Flattening the array using np.flatten()\n",
    "flattened_arr = reshaped_arr.flatten()\n",
    "print(\"Flattened Array (copy):\", flattened_arr)\n",
    "\n",
    "# Flattening the array using np.ravel()\n",
    "raveled_arr = np.ravel(reshaped_arr)\n",
    "print(\"Raveled Array (view):\", raveled_arr)"
   ]
  },
  {
   "cell_type": "markdown",
   "metadata": {},
   "source": [
    "### 2. Transposing Arrays\n",
    "Transposing changes the axes of an array. You can use np.transpose() or np.swapaxes() to perform this operation."
   ]
  },
  {
   "cell_type": "markdown",
   "metadata": {},
   "source": []
  },
  {
   "cell_type": "code",
   "execution_count": 4,
   "metadata": {},
   "outputs": [
    {
     "name": "stdout",
     "output_type": "stream",
     "text": [
      "Transposed Matrix:\n",
      " [[1 4]\n",
      " [2 5]\n",
      " [3 6]]\n"
     ]
    }
   ],
   "source": [
    "# Creating a 2D array (matrix)\n",
    "matrix = np.array([[1, 2, 3], \n",
    "                   [4, 5, 6]])\n",
    "\n",
    "# Transposing the matrix\n",
    "transposed_matrix = np.transpose(matrix)\n",
    "print(\"Transposed Matrix:\\n\", transposed_matrix)"
   ]
  },
  {
   "cell_type": "code",
   "execution_count": 5,
   "metadata": {},
   "outputs": [
    {
     "name": "stdout",
     "output_type": "stream",
     "text": [
      "Array with Swapped Axes (0 and 2):\n",
      " [[[1 5]\n",
      "  [3 7]]\n",
      "\n",
      " [[2 6]\n",
      "  [4 8]]]\n"
     ]
    }
   ],
   "source": [
    "# Creating a 3D array\n",
    "arr_3d = np.array([[[1, 2], [3, 4]], \n",
    "                   [[5, 6], [7, 8]]])\n",
    "\n",
    "# Swapping axes 0 and 2\n",
    "swapped_axes_arr = np.swapaxes(arr_3d, 0, 2)\n",
    "print(\"Array with Swapped Axes (0 and 2):\\n\", swapped_axes_arr)"
   ]
  },
  {
   "cell_type": "markdown",
   "metadata": {},
   "source": [
    "### 3. Concatenation and Splitting Arrays\n",
    "NumPy provides functions to concatenate arrays along various axes and split them into smaller arrays."
   ]
  },
  {
   "cell_type": "code",
   "execution_count": 6,
   "metadata": {},
   "outputs": [
    {
     "name": "stdout",
     "output_type": "stream",
     "text": [
      "Concatenated Array (along axis 0):\n",
      " [[1 2]\n",
      " [3 4]\n",
      " [5 6]\n",
      " [7 8]]\n",
      "Horizontally Stacked Array:\n",
      " [[1 2 5 6]\n",
      " [3 4 7 8]]\n",
      "Vertically Stacked Array:\n",
      " [[1 2]\n",
      " [3 4]\n",
      " [5 6]\n",
      " [7 8]]\n"
     ]
    }
   ],
   "source": [
    "# Creating two arrays to concatenate\n",
    "arr1 = np.array([[1, 2], [3, 4]])\n",
    "arr2 = np.array([[5, 6], [7, 8]])\n",
    "\n",
    "# Concatenating along axis 0 (vertically)\n",
    "concat_arr = np.concatenate((arr1, arr2), axis=0)\n",
    "print(\"Concatenated Array (along axis 0):\\n\", concat_arr)\n",
    "\n",
    "# Horizontal stacking\n",
    "hstack_arr = np.hstack((arr1, arr2))\n",
    "print(\"Horizontally Stacked Array:\\n\", hstack_arr)\n",
    "\n",
    "# Vertical stacking\n",
    "vstack_arr = np.vstack((arr1, arr2))\n",
    "print(\"Vertically Stacked Array:\\n\", vstack_arr)\n"
   ]
  },
  {
   "cell_type": "code",
   "execution_count": 7,
   "metadata": {},
   "outputs": [
    {
     "name": "stdout",
     "output_type": "stream",
     "text": [
      "Split Array (into 2 sub-arrays along axis 1): [array([[1, 2],\n",
      "       [5, 6]]), array([[3, 4],\n",
      "       [7, 8]])]\n",
      "Horizontally Split Array: [array([[1, 2],\n",
      "       [5, 6]]), array([[3, 4],\n",
      "       [7, 8]])]\n",
      "Vertically Split Array: [array([[1, 2, 3, 4]]), array([[5, 6, 7, 8]])]\n"
     ]
    }
   ],
   "source": [
    "# Creating an array to split\n",
    "arr_to_split = np.array([[1, 2, 3, 4], \n",
    "                         [5, 6, 7, 8]])\n",
    "\n",
    "# Splitting into 2 sub-arrays along axis 1 (columns)\n",
    "split_arr = np.split(arr_to_split, 2, axis=1)\n",
    "print(\"Split Array (into 2 sub-arrays along axis 1):\", split_arr)\n",
    "\n",
    "# Horizontally splitting the array into 2\n",
    "hsplit_arr = np.hsplit(arr_to_split, 2)\n",
    "print(\"Horizontally Split Array:\", hsplit_arr)\n",
    "\n",
    "# Vertically splitting the array into 2\n",
    "vsplit_arr = np.vsplit(arr_to_split, 2)\n",
    "print(\"Vertically Split Array:\", vsplit_arr)\n"
   ]
  }
 ],
 "metadata": {
  "kernelspec": {
   "display_name": "Python 3",
   "language": "python",
   "name": "python3"
  },
  "language_info": {
   "codemirror_mode": {
    "name": "ipython",
    "version": 3
   },
   "file_extension": ".py",
   "mimetype": "text/x-python",
   "name": "python",
   "nbconvert_exporter": "python",
   "pygments_lexer": "ipython3",
   "version": "3.12.3"
  }
 },
 "nbformat": 4,
 "nbformat_minor": 2
}
