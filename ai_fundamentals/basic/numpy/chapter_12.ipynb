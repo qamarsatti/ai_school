{
 "cells": [
  {
   "cell_type": "markdown",
   "metadata": {},
   "source": [
    "# Advanced NumPy Features\n",
    "\n",
    "In this section, we will explore advanced features of NumPy, including structured arrays, memory mapping, detailed broadcasting rules, conditional filtering, and multidimensional coordinate matrices.\n",
    "\n",
    "---\n",
    "\n",
    "### 1. Structured Arrays and Record Arrays\n",
    "\n",
    "**Structured arrays** allow you to store data of different types in one NumPy array. Each element can have multiple fields with different types.\n",
    "\n",
    "\n"
   ]
  },
  {
   "cell_type": "code",
   "execution_count": 1,
   "metadata": {},
   "outputs": [],
   "source": [
    "import numpy as np"
   ]
  },
  {
   "cell_type": "code",
   "execution_count": 2,
   "metadata": {},
   "outputs": [
    {
     "name": "stdout",
     "output_type": "stream",
     "text": [
      "Names: ['Alice' 'Bob']\n",
      "Ages: [25 30]\n",
      "Weights: [55.5 70.2]\n"
     ]
    }
   ],
   "source": [
    "# Defining a structured array with fields: name, age, and weight\n",
    "data_type = [('name', 'U10'), ('age', 'i4'), ('weight', 'f4')]\n",
    "\n",
    "# Creating the structured array\n",
    "structured_array = np.array([('Alice', 25, 55.5), ('Bob', 30, 70.2)], dtype=data_type)\n",
    "\n",
    "# Accessing individual fields\n",
    "print(\"Names:\", structured_array['name'])\n",
    "print(\"Ages:\", structured_array['age'])\n",
    "print(\"Weights:\", structured_array['weight'])"
   ]
  },
  {
   "cell_type": "markdown",
   "metadata": {},
   "source": [
    "### 2. Views and Copies of Arrays\n",
    "In NumPy, you can create views or copies of arrays. A view is a shallow copy (modifications affect the original), while a copy is a deep copy (completely independent of the original)."
   ]
  },
  {
   "cell_type": "code",
   "execution_count": 3,
   "metadata": {},
   "outputs": [
    {
     "name": "stdout",
     "output_type": "stream",
     "text": [
      "Original array after modifying view: [100   2   3   4]\n",
      "Original array after modifying copy: [100   2   3   4]\n"
     ]
    }
   ],
   "source": [
    "# Creating an array\n",
    "arr = np.array([1, 2, 3, 4])\n",
    "\n",
    "# Creating a view (shallow copy)\n",
    "view_arr = arr.view()\n",
    "view_arr[0] = 100\n",
    "print(\"Original array after modifying view:\", arr)\n",
    "\n",
    "# Creating a copy (deep copy)\n",
    "copy_arr = arr.copy()\n",
    "copy_arr[0] = 500\n",
    "print(\"Original array after modifying copy:\", arr)"
   ]
  },
  {
   "cell_type": "markdown",
   "metadata": {},
   "source": [
    "### 3. Memory Mapping Files: np.memmap()\n",
    "Memory mapping allows you to work with large arrays by loading only small chunks of data into memory at a time, instead of loading the entire array."
   ]
  },
  {
   "cell_type": "code",
   "execution_count": 4,
   "metadata": {},
   "outputs": [
    {
     "name": "stdout",
     "output_type": "stream",
     "text": [
      "First row of the loaded memory-mapped array: [0. 1. 2. 3. 4. 5. 6. 7. 8. 9.]\n"
     ]
    }
   ],
   "source": [
    "# Creating a memory-mapped file\n",
    "memmap_array = np.memmap('files/data.memmap', dtype='float32', mode='w+', shape=(1000, 1000))\n",
    "\n",
    "# Modifying the memory-mapped array\n",
    "memmap_array[0, :] = np.arange(1000)\n",
    "\n",
    "# Flushing changes to disk\n",
    "memmap_array.flush()\n",
    "\n",
    "# Loading the memory-mapped array\n",
    "memmap_loaded = np.memmap('files/data.memmap', dtype='float32', mode='r', shape=(1000, 1000))\n",
    "print(\"First row of the loaded memory-mapped array:\", memmap_loaded[0, :10])"
   ]
  },
  {
   "cell_type": "markdown",
   "metadata": {},
   "source": [
    "### 4. Broadcasting Rules in Detail\n",
    "Broadcasting allows NumPy to perform operations on arrays of different shapes by \"stretching\" smaller arrays. The dimensions must either be the same or one of them must be 1.<br>\n",
    "***Broadcasting Rules***:<br>\n",
    "If the two arrays differ in shape, NumPy \"stretches\" the smaller array along its singleton dimensions (with size 1).<br>\n",
    "If dimensions do not match and neither is 1, an error is raised."
   ]
  },
  {
   "cell_type": "code",
   "execution_count": 5,
   "metadata": {},
   "outputs": [
    {
     "name": "stdout",
     "output_type": "stream",
     "text": [
      "Broadcasting result:\n",
      " [[11 21 31]\n",
      " [12 22 32]\n",
      " [13 23 33]]\n"
     ]
    }
   ],
   "source": [
    "# Example arrays\n",
    "arr1 = np.array([[1], [2], [3]])  # Shape (3, 1)\n",
    "arr2 = np.array([10, 20, 30])     # Shape (3,)\n",
    "\n",
    "# Broadcasting the arrays for addition\n",
    "result = arr1 + arr2\n",
    "print(\"Broadcasting result:\\n\", result)"
   ]
  },
  {
   "cell_type": "markdown",
   "metadata": {},
   "source": [
    "### 5. Using np.where() for Conditional Filtering\n",
    "np.where() is used for conditional filtering and can act like an if-else statement for arrays. It returns the indices where the condition is true or provides element-wise selection."
   ]
  },
  {
   "cell_type": "code",
   "execution_count": 6,
   "metadata": {},
   "outputs": [
    {
     "name": "stdout",
     "output_type": "stream",
     "text": [
      "Indices where elements are greater than 25: (array([2, 3, 4], dtype=int64),)\n",
      "Array after conditional replacement:\n",
      " [-1 -1 30 40 50]\n"
     ]
    }
   ],
   "source": [
    "# Creating an array\n",
    "arr = np.array([10, 20, 30, 40, 50])\n",
    "\n",
    "# Using np.where() to find elements greater than 25\n",
    "indices = np.where(arr > 25)\n",
    "print(\"Indices where elements are greater than 25:\", indices)\n",
    "\n",
    "# Replacing values conditionally using np.where()\n",
    "result = np.where(arr > 25, arr, -1)\n",
    "print(\"Array after conditional replacement:\\n\", result)"
   ]
  },
  {
   "cell_type": "markdown",
   "metadata": {},
   "source": [
    "### 6. Using np.meshgrid() for Multidimensional Coordinate Matrices\n",
    "np.meshgrid() is used to create a grid of coordinates from two or more arrays, useful in plotting and numerical simulations."
   ]
  },
  {
   "cell_type": "code",
   "execution_count": 7,
   "metadata": {},
   "outputs": [
    {
     "name": "stdout",
     "output_type": "stream",
     "text": [
      "X grid:\n",
      " [[1 2 3]\n",
      " [1 2 3]]\n",
      "Y grid:\n",
      " [[10 10 10]\n",
      " [20 20 20]]\n"
     ]
    }
   ],
   "source": [
    "# Creating two 1D arrays\n",
    "x = np.array([1, 2, 3])\n",
    "y = np.array([10, 20])\n",
    "\n",
    "# Creating a 2D grid of coordinates\n",
    "X, Y = np.meshgrid(x, y)\n",
    "\n",
    "print(\"X grid:\\n\", X)\n",
    "print(\"Y grid:\\n\", Y)"
   ]
  }
 ],
 "metadata": {
  "kernelspec": {
   "display_name": "Python 3",
   "language": "python",
   "name": "python3"
  },
  "language_info": {
   "codemirror_mode": {
    "name": "ipython",
    "version": 3
   },
   "file_extension": ".py",
   "mimetype": "text/x-python",
   "name": "python",
   "nbconvert_exporter": "python",
   "pygments_lexer": "ipython3",
   "version": "3.12.3"
  }
 },
 "nbformat": 4,
 "nbformat_minor": 2
}
