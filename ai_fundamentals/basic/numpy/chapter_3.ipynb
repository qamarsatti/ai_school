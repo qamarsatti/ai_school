{
 "cells": [
  {
   "cell_type": "markdown",
   "metadata": {},
   "source": [
    "# Array Indexing and Slicing\n",
    "\n",
    "In this section, we will learn how to access and modify elements in NumPy arrays. We will cover basic array indexing, slicing, fancy indexing, and modifying array elements using indexing.\n",
    "\n",
    "---\n",
    "\n",
    "### 1. Accessing Array Elements\n",
    "\n"
   ]
  },
  {
   "cell_type": "code",
   "execution_count": 1,
   "metadata": {},
   "outputs": [],
   "source": [
    "import numpy as np"
   ]
  },
  {
   "cell_type": "code",
   "execution_count": 2,
   "metadata": {},
   "outputs": [
    {
     "name": "stdout",
     "output_type": "stream",
     "text": [
      "First element: 10\n",
      "Third element: 30\n",
      "Element at row 1, column 2: 60\n"
     ]
    }
   ],
   "source": [
    "# Creating a 1D array\n",
    "arr = np.array([10, 20, 30, 40, 50])\n",
    "\n",
    "# Creating a 2D array (matrix)\n",
    "arr_2d = np.array([[10, 20, 30],\n",
    "                   [40, 50, 60],\n",
    "                   [70, 80, 90]])\n",
    "\n",
    "# Accessing the first element\n",
    "print(\"First element:\", arr[0])\n",
    "\n",
    "# Accessing the third element\n",
    "print(\"Third element:\", arr[2])\n",
    "\n",
    "# Accessing the element at row 1, column 2 (remember, indices start from 0)\n",
    "print(\"Element at row 1, column 2:\", arr_2d[1, 2])"
   ]
  },
  {
   "cell_type": "markdown",
   "metadata": {},
   "source": [
    "### 2. Slicing Arrays\n",
    "Slicing allows us to access a range of elements in an array. The syntax for slicing is array <span style=\"background-color:green\">***[start:stop:step]***</span>, where start is the index to start at, stop is the index to stop before, and step is the interval between elements"
   ]
  },
  {
   "cell_type": "code",
   "execution_count": 3,
   "metadata": {},
   "outputs": [
    {
     "name": "stdout",
     "output_type": "stream",
     "text": [
      "Elements from index 1 to 4: [20 30 40 50]\n",
      "Elements from index 2 to end: [30 40 50]\n",
      "Every second element: [10 30 50]\n",
      "Reversed array: [50 40 30 20 10]\n",
      "Reversed last 4 numbers: [50 40 30 20]\n"
     ]
    }
   ],
   "source": [
    "# Slicing from index 1 to 4\n",
    "print(\"Elements from index 1 to 4:\", arr[1:5])\n",
    "\n",
    "# Slicing from index 2 to the end\n",
    "print(\"Elements from index 2 to end:\", arr[2:])\n",
    "\n",
    "# Slicing every second element\n",
    "print(\"Every second element:\", arr[::2])\n",
    "\n",
    "# Reversing the array using slicing\n",
    "print(\"Reversed array:\", arr[::-1])\n",
    "\n",
    "# Slicing the last 4 numbers and reversing them\n",
    "reversed_last_4 = arr[-4:][::-1]\n",
    "print(\"Reversed last 4 numbers:\", reversed_last_4)"
   ]
  },
  {
   "cell_type": "markdown",
   "metadata": {},
   "source": [
    "##### 2D Array Slicing"
   ]
  },
  {
   "cell_type": "code",
   "execution_count": 4,
   "metadata": {},
   "outputs": [
    {
     "name": "stdout",
     "output_type": "stream",
     "text": [
      "Second row: [40 50 60]\n",
      "Third column: [30 60 90]\n",
      "Sliced subarray (rows 0 to 1, columns 1 to 2):\n",
      " [[20 30]\n",
      " [50 60]]\n",
      "Array with reversed rows:\n",
      " [[70 80 90]\n",
      " [40 50 60]\n",
      " [10 20 30]]\n",
      "Array with reversed columns:\n",
      " [[30 20 10]\n",
      " [60 50 40]\n",
      " [90 80 70]]\n",
      "Array with both rows and columns reversed:\n",
      " [[90 80 70]\n",
      " [60 50 40]\n",
      " [30 20 10]]\n"
     ]
    }
   ],
   "source": [
    "# Slicing the 2D array second row (row at index 1)\n",
    "print(\"Second row:\", arr_2d[1, :])\n",
    "\n",
    "\n",
    "# Slicing the 2D array third column (column at index 2)\n",
    "print(\"Third column:\", arr_2d[:, 2])\n",
    "\n",
    "# Slicing a 2d array subarray: rows 0 to 1, columns 1 to 2\n",
    "print(\"Sliced subarray (rows 0 to 1, columns 1 to 2):\\n\", arr_2d[0:2, 1:3])\n",
    "\n",
    "\n",
    "# Reversing the order of rows\n",
    "print(\"Array with reversed rows:\\n\", arr_2d[::-1, :])\n",
    "\n",
    "# Reversing the order of columns\n",
    "print(\"Array with reversed columns:\\n\", arr_2d[:, ::-1])\n",
    "\n",
    "# Reversing both rows and columns\n",
    "print(\"Array with both rows and columns reversed:\\n\", arr_2d[::-1, ::-1])\n",
    "\n",
    "\n"
   ]
  },
  {
   "cell_type": "markdown",
   "metadata": {},
   "source": [
    "### 3. Fancy Indexing\n",
    "Fancy indexing allows us to select specific elements from an array using integer or boolean arrays. It is a powerful way to index multiple elements at once"
   ]
  },
  {
   "cell_type": "code",
   "execution_count": 5,
   "metadata": {},
   "outputs": [
    {
     "name": "stdout",
     "output_type": "stream",
     "text": [
      "Elements at indices 1, 3, and 5: [20 40 60]\n"
     ]
    }
   ],
   "source": [
    "# Creating a new 1D array\n",
    "arr = np.array([10, 20, 30, 40, 50, 60])\n",
    "\n",
    "# Accessing elements at index 1, 3, and 5\n",
    "indices = [1, 3, 5]\n",
    "print(\"Elements at indices 1, 3, and 5:\", arr[indices])"
   ]
  },
  {
   "cell_type": "code",
   "execution_count": 6,
   "metadata": {},
   "outputs": [
    {
     "name": "stdout",
     "output_type": "stream",
     "text": [
      "Elements greater than 30: [40 50 60]\n",
      "Even elements: [10 20 30 40 50 60]\n"
     ]
    }
   ],
   "source": [
    "# Creating a boolean array where elements greater than 30 are selected\n",
    "bool_array = arr > 30\n",
    "print(\"Elements greater than 30:\", arr[bool_array])\n",
    "\n",
    "# Another example: selecting even elements\n",
    "even_elements = arr % 2 == 0\n",
    "print(\"Even elements:\", arr[even_elements])"
   ]
  },
  {
   "cell_type": "markdown",
   "metadata": {},
   "source": [
    "### 4. Modifying Array Elements with Indexing\n",
    "We can modify elements in a NumPy array by using indexing. This allows us to change specific elements or a range of elements."
   ]
  },
  {
   "cell_type": "code",
   "execution_count": 7,
   "metadata": {},
   "outputs": [
    {
     "name": "stdout",
     "output_type": "stream",
     "text": [
      "Modified array (index 2 changed to 100): [ 10  20 100  40  50  60]\n",
      "Modified array (indices 1 to 3 changed): [ 10 200 300 400  50  60]\n",
      "Modified array (indices 1 to 3 changed) with single value: [ 10 200 200 200  50  60]\n"
     ]
    }
   ],
   "source": [
    "# Modifying the element at index 2\n",
    "arr[2] = 100\n",
    "print(\"Modified array (index 2 changed to 100):\", arr)\n",
    "\n",
    "# Modifying multiple elements using slicing\n",
    "arr[1:4] = [200, 300, 400]\n",
    "print(\"Modified array (indices 1 to 3 changed):\", arr)\n",
    "\n",
    "# Modifying multiple elements using slicing with a single value\n",
    "arr[1:4] = 200\n",
    "print(\"Modified array (indices 1 to 3 changed) with single value:\", arr)"
   ]
  },
  {
   "cell_type": "markdown",
   "metadata": {},
   "source": [
    "##### 2D Array Modifying"
   ]
  },
  {
   "cell_type": "code",
   "execution_count": 8,
   "metadata": {},
   "outputs": [
    {
     "name": "stdout",
     "output_type": "stream",
     "text": [
      "Modified 2D Array (second row changed):\n",
      " [[ 10  20  30]\n",
      " [400 500 600]\n",
      " [ 70  80  90]]\n",
      "Modified 2D Array (third column changed):\n",
      " [[ 10  20 300]\n",
      " [400 500 600]\n",
      " [ 70  80 900]]\n",
      "Modified 2D Array (subarray changed):\n",
      " [[ 10 200 300]\n",
      " [400 500 600]\n",
      " [ 70  80 900]]\n"
     ]
    }
   ],
   "source": [
    "# Modifying the entire second row\n",
    "arr_2d[1, :] = [400, 500, 600]\n",
    "print(\"Modified 2D Array (second row changed):\\n\", arr_2d)\n",
    "\n",
    "# Modifying the third column\n",
    "arr_2d[:, 2] = [300, 600, 900]\n",
    "print(\"Modified 2D Array (third column changed):\\n\", arr_2d)\n",
    "\n",
    "# Modifying a subarray (rows 0 to 1, columns 1 to 2)\n",
    "arr_2d[0:2, 1:3] = [[200, 300], [500, 600]]\n",
    "print(\"Modified 2D Array (subarray changed):\\n\", arr_2d)\n"
   ]
  },
  {
   "cell_type": "markdown",
   "metadata": {},
   "source": []
  }
 ],
 "metadata": {
  "kernelspec": {
   "display_name": "Python 3",
   "language": "python",
   "name": "python3"
  },
  "language_info": {
   "codemirror_mode": {
    "name": "ipython",
    "version": 3
   },
   "file_extension": ".py",
   "mimetype": "text/x-python",
   "name": "python",
   "nbconvert_exporter": "python",
   "pygments_lexer": "ipython3",
   "version": "3.12.3"
  }
 },
 "nbformat": 4,
 "nbformat_minor": 2
}
