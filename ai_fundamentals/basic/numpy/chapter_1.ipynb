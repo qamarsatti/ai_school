{
 "cells": [
  {
   "cell_type": "markdown",
   "metadata": {},
   "source": [
    "# Introduction to NumPy\n",
    "\n",
    "NumPy (Numerical Python) is a library for the Python programming language, which provides support for large multi-dimensional arrays and matrices, along with a collection of mathematical functions to operate on these arrays. It is a core library for scientific computing in Python.\n",
    "\n",
    "### Why is NumPy important?\n",
    "NumPy is essential for performing mathematical and logical operations on arrays. It is used for working with arrays, linear algebra, random numbers, and much more. Many libraries in Python, like pandas, matplotlib, and scikit-learn, depend on NumPy for array processing."
   ]
  },
  {
   "cell_type": "code",
   "execution_count": 1,
   "metadata": {},
   "outputs": [],
   "source": [
    "# Installation of NumPy (run this in terminal or in your notebook environment if needed)\n",
    "# !pip install numpy\n",
    "\n",
    "import numpy as np"
   ]
  },
  {
   "cell_type": "markdown",
   "metadata": {},
   "source": [
    "## Comparison Between NumPy Arrays and Python Lists:\n",
    "# Performance\n",
    "NumPy arrays are more efficient and faster than Python lists.\n",
    "# Memory  \n",
    "NumPy arrays use less memory compared to Python lists.\n",
    "# Convenience\n",
    "NumPy has built-in functions for complex mathematical operations, while lists do not.\n"
   ]
  },
  {
   "cell_type": "code",
   "execution_count": null,
   "metadata": {},
   "outputs": [],
   "source": [
    "import numpy as np\n",
    "import time\n",
    "\n",
    "# Create a Python list\n",
    "py_list = list(range(1000000))\n",
    "\n",
    "# Create a NumPy array\n",
    "np_array = np.arange(1000000)\n",
    "\n",
    "# -----------------\n",
    "# Time Comparison for Addition of Elements\n",
    "# -----------------\n",
    "\n",
    "# Time for Python list addition\n",
    "start_time = time.time()\n",
    "py_list = [x + 1 for x in py_list]\n",
    "py_time = time.time() - start_time\n",
    "\n",
    "# Time for NumPy array addition\n",
    "start_time = time.time()\n",
    "np_array += 1\n",
    "np_time = time.time() - start_time\n",
    "\n",
    "print(f\"Time taken for addition using Python list: {py_time:.5f} seconds\")\n",
    "print(f\"Time taken for addition using NumPy array: {np_time:.5f} seconds\")\n",
    "\n",
    "# -----------------\n",
    "# Memory Comparison\n",
    "# -----------------\n",
    "\n",
    "import sys\n",
    "\n",
    "# Memory usage of Python list\n",
    "list_size = sys.getsizeof(py_list)\n",
    "# Memory usage of NumPy array\n",
    "array_size = np_array.nbytes\n",
    "\n",
    "print(f\"Memory used by Python list: {list_size} bytes\")\n",
    "print(f\"Memory used by NumPy array: {array_size} bytes\")\n",
    "\n",
    "# -----------------\n",
    "# Element-wise Operations Comparison\n",
    "# -----------------\n",
    "\n",
    "# Python list: Squaring each element (slow and verbose)\n",
    "start_time = time.time()\n",
    "py_list = [x**2 for x in py_list]\n",
    "py_op_time = time.time() - start_time\n",
    "\n",
    "# NumPy array: Squaring each element (fast and efficient)\n",
    "start_time = time.time()\n",
    "np_array = np_array**2\n",
    "np_op_time = time.time() - start_time\n",
    "\n",
    "print(f\"Time taken for element-wise squaring (Python list): {py_op_time:.5f} seconds\")\n",
    "print(f\"Time taken for element-wise squaring (NumPy array): {np_op_time:.5f} seconds\")\n"
   ]
  }
 ],
 "metadata": {
  "kernelspec": {
   "display_name": "Python 3",
   "language": "python",
   "name": "python3"
  },
  "language_info": {
   "codemirror_mode": {
    "name": "ipython",
    "version": 3
   },
   "file_extension": ".py",
   "mimetype": "text/x-python",
   "name": "python",
   "nbconvert_exporter": "python",
   "pygments_lexer": "ipython3",
   "version": "3.12.3"
  }
 },
 "nbformat": 4,
 "nbformat_minor": 2
}
