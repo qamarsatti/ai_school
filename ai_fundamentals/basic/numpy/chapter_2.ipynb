{
 "cells": [
  {
   "cell_type": "markdown",
   "metadata": {},
   "source": [
    "# NumPy Basics\n",
    "\n",
    "This notebook introduces the fundamental concepts of NumPy, a popular library for numerical computing in Python. We will cover topics like array creation, important attributes, initialization techniques, and random number generation.\n",
    "### 1. Creating Arrays"
   ]
  },
  {
   "cell_type": "code",
   "execution_count": 18,
   "metadata": {},
   "outputs": [],
   "source": [
    "import numpy as np"
   ]
  },
  {
   "cell_type": "code",
   "execution_count": 19,
   "metadata": {},
   "outputs": [
    {
     "name": "stdout",
     "output_type": "stream",
     "text": [
      "1D Array:\n",
      " [1 2 3]\n"
     ]
    }
   ],
   "source": [
    "# Creating a 1D array\n",
    "arr_1d = np.array([1, 2, 3])\n",
    "print(\"1D Array:\\n\", arr_1d)\n"
   ]
  },
  {
   "cell_type": "code",
   "execution_count": 20,
   "metadata": {},
   "outputs": [
    {
     "name": "stdout",
     "output_type": "stream",
     "text": [
      "2D Array:\n",
      " [[1 2 3]\n",
      " [4 5 6]]\n"
     ]
    }
   ],
   "source": [
    "# Creating a 2D array\n",
    "arr_2d = np.array([[1, 2, 3], [4, 5, 6]])\n",
    "print(\"2D Array:\\n\", arr_2d)"
   ]
  },
  {
   "cell_type": "code",
   "execution_count": 21,
   "metadata": {},
   "outputs": [
    {
     "name": "stdout",
     "output_type": "stream",
     "text": [
      "3D Array:\n",
      " [[[ 1  2  3]\n",
      "  [ 4  5  6]]\n",
      "\n",
      " [[ 7  8  9]\n",
      "  [10 11 12]]]\n"
     ]
    }
   ],
   "source": [
    "# Creating a 3D array\n",
    "arr_3d = np.array([[[1, 2, 3], [4, 5, 6]], [[7, 8, 9], [10, 11, 12]]])\n",
    "print(\"3D Array:\\n\", arr_3d)\n"
   ]
  },
  {
   "cell_type": "markdown",
   "metadata": {},
   "source": [
    "### 2. Array Attributes\n",
    "NumPy arrays come with several important attributes, such as shape, number of dimensions, size, and data type. These attributes help us to understand the structure of the array."
   ]
  },
  {
   "cell_type": "code",
   "execution_count": 22,
   "metadata": {},
   "outputs": [
    {
     "name": "stdout",
     "output_type": "stream",
     "text": [
      "Shape of 1D Array: (3,)\n",
      "Shape of 2D Array: (2, 3)\n",
      "Shape of 3D Array: (2, 2, 3)\n"
     ]
    }
   ],
   "source": [
    "# Checking the shape of the array\n",
    "print(\"Shape of 1D Array:\", arr_1d.shape)\n",
    "print(\"Shape of 2D Array:\", arr_2d.shape)\n",
    "print(\"Shape of 3D Array:\", arr_3d.shape)"
   ]
  },
  {
   "cell_type": "code",
   "execution_count": 23,
   "metadata": {},
   "outputs": [
    {
     "name": "stdout",
     "output_type": "stream",
     "text": [
      "Data Type of 1D Array: int32\n",
      "Data Type of 2D Array: int32\n"
     ]
    }
   ],
   "source": [
    "# Checking the data type of the array elements\n",
    "print(\"Data Type of 1D Array:\", arr_1d.dtype)\n",
    "print(\"Data Type of 2D Array:\", arr_2d.dtype)\n"
   ]
  },
  {
   "cell_type": "code",
   "execution_count": 24,
   "metadata": {},
   "outputs": [
    {
     "name": "stdout",
     "output_type": "stream",
     "text": [
      "Number of dimensions in 1D Array: 1\n",
      "Number of dimensions in 2D Array: 2\n",
      "Number of dimensions in 3D Array: 3\n"
     ]
    }
   ],
   "source": [
    "# Checking the number of dimensions\n",
    "print(\"Number of dimensions in 1D Array:\", arr_1d.ndim)\n",
    "print(\"Number of dimensions in 2D Array:\", arr_2d.ndim)\n",
    "print(\"Number of dimensions in 3D Array:\", arr_3d.ndim)"
   ]
  },
  {
   "cell_type": "code",
   "execution_count": 25,
   "metadata": {},
   "outputs": [
    {
     "name": "stdout",
     "output_type": "stream",
     "text": [
      "Size of 1D Array: 3\n",
      "Size of 2D Array: 6\n",
      "Size of 3D Array: 12\n"
     ]
    }
   ],
   "source": [
    "# Checking the size (number of elements)\n",
    "print(\"Size of 1D Array:\", arr_1d.size)\n",
    "print(\"Size of 2D Array:\", arr_2d.size)\n",
    "print(\"Size of 3D Array:\", arr_3d.size)"
   ]
  },
  {
   "cell_type": "markdown",
   "metadata": {},
   "source": [
    "### 3. Array Initialization Techniques\n",
    "NumPy provides several methods for initializing arrays without having to manually create them from Python lists. These techniques are useful for creating arrays with zeros, ones, or random values."
   ]
  },
  {
   "cell_type": "code",
   "execution_count": 26,
   "metadata": {},
   "outputs": [
    {
     "name": "stdout",
     "output_type": "stream",
     "text": [
      "Array of Zeros:\n",
      " [[0. 0. 0.]\n",
      " [0. 0. 0.]]\n"
     ]
    }
   ],
   "source": [
    "# Creating a 2x3 array of zeros\n",
    "zero_array = np.zeros((2, 3))\n",
    "print(\"Array of Zeros:\\n\", zero_array)"
   ]
  },
  {
   "cell_type": "code",
   "execution_count": 27,
   "metadata": {},
   "outputs": [
    {
     "name": "stdout",
     "output_type": "stream",
     "text": [
      "Array of Ones:\n",
      " [[1. 1. 1.]\n",
      " [1. 1. 1.]\n",
      " [1. 1. 1.]]\n"
     ]
    }
   ],
   "source": [
    "# Creating a 3x3 array of ones\n",
    "ones_array = np.ones((3, 3))\n",
    "print(\"Array of Ones:\\n\", ones_array)"
   ]
  },
  {
   "cell_type": "code",
   "execution_count": 28,
   "metadata": {},
   "outputs": [
    {
     "name": "stdout",
     "output_type": "stream",
     "text": [
      "Empty Array (random data):\n",
      " [[0.25 0.5 ]\n",
      " [0.75 1.  ]]\n"
     ]
    }
   ],
   "source": [
    "# Creating an empty array (content will be random)\n",
    "empty_array = np.empty((2, 2))\n",
    "print(\"Empty Array (random data):\\n\", empty_array)"
   ]
  },
  {
   "cell_type": "code",
   "execution_count": 29,
   "metadata": {},
   "outputs": [
    {
     "name": "stdout",
     "output_type": "stream",
     "text": [
      "Array filled with 7:\n",
      " [[7 7 7]\n",
      " [7 7 7]\n",
      " [7 7 7]]\n"
     ]
    }
   ],
   "source": [
    "# Creating a 3x3 array filled with the value 7\n",
    "full_array = np.full((3, 3), 7)\n",
    "print(\"Array filled with 7:\\n\", full_array)"
   ]
  },
  {
   "cell_type": "code",
   "execution_count": 30,
   "metadata": {},
   "outputs": [
    {
     "name": "stdout",
     "output_type": "stream",
     "text": [
      "Array with range of values:\n",
      " [0 1 2 3 4 5 6 7 8 9]\n",
      "Array with evenly spaced values:\n",
      " [0.   0.25 0.5  0.75 1.  ]\n"
     ]
    }
   ],
   "source": [
    "# Creating an array with values from 0 to 9\n",
    "range_array = np.arange(0, 10)\n",
    "print(\"Array with range of values:\\n\", range_array)\n",
    "\n",
    "# Creating an array with 5 values evenly spaced between 0 and 1\n",
    "linspace_array = np.linspace(0, 1, 5)\n",
    "print(\"Array with evenly spaced values:\\n\", linspace_array)"
   ]
  },
  {
   "cell_type": "code",
   "execution_count": 31,
   "metadata": {},
   "outputs": [
    {
     "name": "stdout",
     "output_type": "stream",
     "text": [
      "Identity Matrix:\n",
      " [[1. 0. 0.]\n",
      " [0. 1. 0.]\n",
      " [0. 0. 1.]]\n"
     ]
    }
   ],
   "source": [
    "# Creating a 3x3 identity matrix\n",
    "identity_matrix = np.eye(3)\n",
    "print(\"Identity Matrix:\\n\", identity_matrix)"
   ]
  },
  {
   "cell_type": "markdown",
   "metadata": {},
   "source": [
    "### 4. Random Number Generation\n",
    "NumPy has a powerful random number generation module (np.random). It provides functions to generate random numbers, including uniform and normal distributions"
   ]
  },
  {
   "cell_type": "code",
   "execution_count": 32,
   "metadata": {},
   "outputs": [
    {
     "name": "stdout",
     "output_type": "stream",
     "text": [
      "Random numbers (uniform distribution):\n",
      " [0.35319094 0.92621672 0.76994882]\n"
     ]
    }
   ],
   "source": [
    "# Generating 3 random numbers between 0 and 1\n",
    "rand_array = np.random.rand(3)\n",
    "print(\"Random numbers (uniform distribution):\\n\", rand_array)"
   ]
  },
  {
   "cell_type": "code",
   "execution_count": 33,
   "metadata": {},
   "outputs": [
    {
     "name": "stdout",
     "output_type": "stream",
     "text": [
      "Random numbers (normal distribution):\n",
      " [ 2.9453942  -1.0496301  -1.08267747]\n"
     ]
    }
   ],
   "source": [
    "# Generating 3 random numbers from a standard normal distribution\n",
    "randn_array = np.random.randn(3)\n",
    "print(\"Random numbers (normal distribution):\\n\", randn_array)"
   ]
  },
  {
   "cell_type": "code",
   "execution_count": 34,
   "metadata": {},
   "outputs": [
    {
     "name": "stdout",
     "output_type": "stream",
     "text": [
      "Random integers:\n",
      " [0 9 6 4 5]\n"
     ]
    }
   ],
   "source": [
    "# Generating 5 random integers between 0 and 10\n",
    "randint_array = np.random.randint(0, 10, 5)\n",
    "print(\"Random integers:\\n\", randint_array)"
   ]
  }
 ],
 "metadata": {
  "kernelspec": {
   "display_name": "Python 3",
   "language": "python",
   "name": "python3"
  },
  "language_info": {
   "codemirror_mode": {
    "name": "ipython",
    "version": 3
   },
   "file_extension": ".py",
   "mimetype": "text/x-python",
   "name": "python",
   "nbconvert_exporter": "python",
   "pygments_lexer": "ipython3",
   "version": "3.12.3"
  }
 },
 "nbformat": 4,
 "nbformat_minor": 2
}
