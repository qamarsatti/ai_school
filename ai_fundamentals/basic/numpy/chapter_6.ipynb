{
 "cells": [
  {
   "cell_type": "markdown",
   "metadata": {},
   "source": [
    "# NumPy and Linear Algebra\n",
    "\n",
    "NumPy provides powerful linear algebra functions through the `np.linalg` module. These functions allow us to compute matrix properties and perform operations like finding determinants, matrix inversion, solving linear equations, eigenvalue decomposition, and singular value decomposition.\n",
    "\n",
    "---\n",
    "\n",
    "### 1. Basics of Linear Algebra in NumPy\n",
    "\n",
    "Let's explore the basics of linear algebra operations using NumPy, including matrix determinants, matrix inversions, solving linear equations, and eigenvalues/eigenvectors.\n",
    "\n",
    "\n"
   ]
  },
  {
   "cell_type": "code",
   "execution_count": 1,
   "metadata": {},
   "outputs": [],
   "source": [
    "import numpy as np"
   ]
  },
  {
   "cell_type": "code",
   "execution_count": 2,
   "metadata": {},
   "outputs": [
    {
     "name": "stdout",
     "output_type": "stream",
     "text": [
      "Determinant of the matrix: 10.000000000000002\n"
     ]
    }
   ],
   "source": [
    "\n",
    "\n",
    "# Creating a 2x2 matrix\n",
    "matrix = np.array([[4, 7], \n",
    "                   [2, 6]])\n",
    "\n",
    "# Calculating the determinant\n",
    "det = np.linalg.det(matrix)\n",
    "print(\"Determinant of the matrix:\", det)"
   ]
  },
  {
   "cell_type": "code",
   "execution_count": 3,
   "metadata": {},
   "outputs": [
    {
     "name": "stdout",
     "output_type": "stream",
     "text": [
      "Inverse of the matrix:\n",
      " [[ 0.6 -0.7]\n",
      " [-0.2  0.4]]\n",
      "Matrix multiplied by its inverse (Identity Matrix):\n",
      " [[ 1.00000000e+00 -1.11022302e-16]\n",
      " [ 1.11022302e-16  1.00000000e+00]]\n"
     ]
    }
   ],
   "source": [
    "# Calculating the inverse of the matrix\n",
    "inverse_matrix = np.linalg.inv(matrix)\n",
    "print(\"Inverse of the matrix:\\n\", inverse_matrix)\n",
    "\n",
    "# Verifying by multiplying the matrix with its inverse\n",
    "identity_matrix = np.dot(matrix, inverse_matrix)\n",
    "print(\"Matrix multiplied by its inverse (Identity Matrix):\\n\", identity_matrix)"
   ]
  },
  {
   "cell_type": "code",
   "execution_count": 4,
   "metadata": {},
   "outputs": [
    {
     "name": "stdout",
     "output_type": "stream",
     "text": [
      "Solution for the system of linear equations (x): [2. 3.]\n"
     ]
    }
   ],
   "source": [
    "# Coefficient matrix (A)\n",
    "A = np.array([[3, 1], \n",
    "              [1, 2]])\n",
    "\n",
    "# Constants matrix (b)\n",
    "b = np.array([9, 8])\n",
    "\n",
    "# Solving for x\n",
    "x = np.linalg.solve(A, b)\n",
    "print(\"Solution for the system of linear equations (x):\", x)"
   ]
  },
  {
   "cell_type": "code",
   "execution_count": 5,
   "metadata": {},
   "outputs": [
    {
     "name": "stdout",
     "output_type": "stream",
     "text": [
      "Eigenvalues: [1.12701665 8.87298335]\n",
      "Eigenvectors:\n",
      " [[-0.92511345 -0.82071729]\n",
      " [ 0.37969079 -0.57133452]]\n"
     ]
    }
   ],
   "source": [
    "# Calculating eigenvalues and eigenvectors\n",
    "eigenvalues, eigenvectors = np.linalg.eig(matrix)\n",
    "print(\"Eigenvalues:\", eigenvalues)\n",
    "print(\"Eigenvectors:\\n\", eigenvectors)"
   ]
  },
  {
   "cell_type": "markdown",
   "metadata": {},
   "source": [
    "### 2. Singular Value Decomposition (SVD): np.linalg.svd()\n",
    "Singular Value Decomposition (SVD) is a factorization of a matrix A=UΣV<sup>t</sup> where 𝑈,Σ, and V are matrices. SVD is widely used in applications like dimensionality reduction and signal processing.\n",
    " "
   ]
  },
  {
   "cell_type": "code",
   "execution_count": 6,
   "metadata": {},
   "outputs": [
    {
     "name": "stdout",
     "output_type": "stream",
     "text": [
      "U matrix:\n",
      " [[-0.2298477   0.88346102  0.40824829]\n",
      " [-0.52474482  0.24078249 -0.81649658]\n",
      " [-0.81964194 -0.40189603  0.40824829]]\n",
      "Singular values (Sigma): [9.52551809 0.51430058]\n",
      "V transpose matrix (V^T):\n",
      " [[-0.61962948 -0.78489445]\n",
      " [-0.78489445  0.61962948]]\n"
     ]
    }
   ],
   "source": [
    "# Creating a matrix for SVD\n",
    "matrix_svd = np.array([[1, 2], \n",
    "                       [3, 4], \n",
    "                       [5, 6]])\n",
    "\n",
    "# Performing Singular Value Decomposition\n",
    "U, S, Vt = np.linalg.svd(matrix_svd)\n",
    "\n",
    "print(\"U matrix:\\n\", U)\n",
    "print(\"Singular values (Sigma):\", S)\n",
    "print(\"V transpose matrix (V^T):\\n\", Vt)"
   ]
  },
  {
   "cell_type": "markdown",
   "metadata": {},
   "source": []
  }
 ],
 "metadata": {
  "kernelspec": {
   "display_name": "Python 3",
   "language": "python",
   "name": "python3"
  },
  "language_info": {
   "codemirror_mode": {
    "name": "ipython",
    "version": 3
   },
   "file_extension": ".py",
   "mimetype": "text/x-python",
   "name": "python",
   "nbconvert_exporter": "python",
   "pygments_lexer": "ipython3",
   "version": "3.12.3"
  }
 },
 "nbformat": 4,
 "nbformat_minor": 2
}
