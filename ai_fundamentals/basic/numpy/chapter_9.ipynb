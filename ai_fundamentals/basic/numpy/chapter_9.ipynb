{
 "cells": [
  {
   "cell_type": "markdown",
   "metadata": {},
   "source": [
    "# Random Number Generation in NumPy\n",
    "\n",
    "NumPy provides powerful tools to generate random numbers and sample from various distributions. In this section, we will cover generating random numbers, random distributions, setting seeds for reproducibility, and methods for shuffling and sampling.\n",
    "\n",
    "---\n",
    "\n",
    "### 1. Generating Random Numbers\n",
    "\n",
    "NumPy offers several functions for generating random numbers from uniform and specific ranges.\n",
    "\n"
   ]
  },
  {
   "cell_type": "code",
   "execution_count": 1,
   "metadata": {},
   "outputs": [],
   "source": [
    "import numpy as np"
   ]
  },
  {
   "cell_type": "code",
   "execution_count": 2,
   "metadata": {},
   "outputs": [
    {
     "name": "stdout",
     "output_type": "stream",
     "text": [
      "Random numbers using np.random.random(): [0.26612923 0.48948497 0.5510807  0.00660991 0.64435947]\n"
     ]
    }
   ],
   "source": [
    "# Generating random numbers between 0 and 1\n",
    "random_numbers = np.random.random(5)  # Generate 5 random numbers\n",
    "print(\"Random numbers using np.random.random():\", random_numbers)"
   ]
  },
  {
   "cell_type": "code",
   "execution_count": 3,
   "metadata": {},
   "outputs": [
    {
     "name": "stdout",
     "output_type": "stream",
     "text": [
      "Random array using np.random.rand():\n",
      " [[0.38855931 0.42278224 0.11724616]\n",
      " [0.1339021  0.18444386 0.2320353 ]]\n"
     ]
    }
   ],
   "source": [
    "# Generating a 2x3 array of random numbers between 0 and 1\n",
    "random_array = np.random.rand(2, 3)\n",
    "print(\"Random array using np.random.rand():\\n\", random_array)"
   ]
  },
  {
   "cell_type": "code",
   "execution_count": 4,
   "metadata": {},
   "outputs": [
    {
     "name": "stdout",
     "output_type": "stream",
     "text": [
      "Random integers using np.random.randint(): [34 27 29 17 13]\n"
     ]
    }
   ],
   "source": [
    "# Generating 5 random integers between 10 and 50\n",
    "random_integers = np.random.randint(10, 50, size=5)\n",
    "print(\"Random integers using np.random.randint():\", random_integers)"
   ]
  },
  {
   "cell_type": "markdown",
   "metadata": {},
   "source": [
    "### 2. Random Distributions\n",
    "NumPy provides functions to generate random samples from various probability distributions like normal, Poisson, and binomial distributions."
   ]
  },
  {
   "cell_type": "code",
   "execution_count": 5,
   "metadata": {},
   "outputs": [
    {
     "name": "stdout",
     "output_type": "stream",
     "text": [
      "Random samples from normal distribution: [-0.774488   -1.05168637 -0.87377322  0.44027846 -0.01604841]\n"
     ]
    }
   ],
   "source": [
    "# Generating 5 samples from a normal distribution with mean 0 and standard deviation 1\n",
    "normal_samples = np.random.normal(0, 1, size=5)\n",
    "print(\"Random samples from normal distribution:\", normal_samples)"
   ]
  },
  {
   "cell_type": "code",
   "execution_count": 6,
   "metadata": {},
   "outputs": [
    {
     "name": "stdout",
     "output_type": "stream",
     "text": [
      "Random samples from Poisson distribution: [1 2 2 3 2]\n"
     ]
    }
   ],
   "source": [
    "# Generating 5 samples from a Poisson distribution with lambda=3\n",
    "poisson_samples = np.random.poisson(3, size=5)\n",
    "print(\"Random samples from Poisson distribution:\", poisson_samples)"
   ]
  },
  {
   "cell_type": "code",
   "execution_count": 7,
   "metadata": {},
   "outputs": [
    {
     "name": "stdout",
     "output_type": "stream",
     "text": [
      "Random samples from binomial distribution: [2 4 4 3 3]\n"
     ]
    }
   ],
   "source": [
    "# Generating 5 samples from a binomial distribution with 10 trials and 0.5 probability of success\n",
    "binomial_samples = np.random.binomial(n=10, p=0.5, size=5)\n",
    "print(\"Random samples from binomial distribution:\", binomial_samples)"
   ]
  },
  {
   "cell_type": "markdown",
   "metadata": {},
   "source": [
    "### 3. Setting Seed for Reproducibility\n",
    "To make random number generation reproducible (i.e., get the same random numbers every time), you can use np.random.seed(). This sets the seed for the random number generator."
   ]
  },
  {
   "cell_type": "code",
   "execution_count": 8,
   "metadata": {},
   "outputs": [
    {
     "name": "stdout",
     "output_type": "stream",
     "text": [
      "Random numbers with seed set: [0.37454012 0.95071431 0.73199394 0.59865848 0.15601864]\n"
     ]
    }
   ],
   "source": [
    "# Setting a seed for reproducibility\n",
    "np.random.seed(42)\n",
    "\n",
    "# Generating random numbers with the seed set\n",
    "seeded_random_numbers = np.random.random(5)\n",
    "print(\"Random numbers with seed set:\", seeded_random_numbers)"
   ]
  },
  {
   "cell_type": "markdown",
   "metadata": {},
   "source": [
    "### 4. Shuffling and Sampling\n",
    "NumPy provides functions to shuffle arrays and randomly sample elements from arrays."
   ]
  },
  {
   "cell_type": "code",
   "execution_count": 9,
   "metadata": {},
   "outputs": [
    {
     "name": "stdout",
     "output_type": "stream",
     "text": [
      "Shuffled array: [2 1 4 5 3]\n"
     ]
    }
   ],
   "source": [
    "# Creating an array to shuffle\n",
    "arr = np.array([1, 2, 3, 4, 5])\n",
    "\n",
    "# Shuffling the array\n",
    "np.random.shuffle(arr)\n",
    "print(\"Shuffled array:\", arr)"
   ]
  },
  {
   "cell_type": "code",
   "execution_count": 10,
   "metadata": {},
   "outputs": [
    {
     "name": "stdout",
     "output_type": "stream",
     "text": [
      "Sampled elements without replacement: [2 1 4]\n",
      "Sampled elements with replacement: [3 1 5]\n"
     ]
    }
   ],
   "source": [
    "# Randomly selecting 3 elements from the array\n",
    "sampled_elements = np.random.choice(arr, size=3, replace=False)\n",
    "print(\"Sampled elements without replacement:\", sampled_elements)\n",
    "\n",
    "# Randomly selecting 3 elements with replacement\n",
    "sampled_with_replacement = np.random.choice(arr, size=3, replace=True)\n",
    "print(\"Sampled elements with replacement:\", sampled_with_replacement)"
   ]
  }
 ],
 "metadata": {
  "kernelspec": {
   "display_name": "Python 3",
   "language": "python",
   "name": "python3"
  },
  "language_info": {
   "codemirror_mode": {
    "name": "ipython",
    "version": 3
   },
   "file_extension": ".py",
   "mimetype": "text/x-python",
   "name": "python",
   "nbconvert_exporter": "python",
   "pygments_lexer": "ipython3",
   "version": "3.12.3"
  }
 },
 "nbformat": 4,
 "nbformat_minor": 2
}
